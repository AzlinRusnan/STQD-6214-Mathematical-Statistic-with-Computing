{
  "nbformat": 4,
  "nbformat_minor": 0,
  "metadata": {
    "colab": {
      "provenance": [],
      "authorship_tag": "ABX9TyNkkvRr+gHekthQzFlitWHA",
      "include_colab_link": true
    },
    "kernelspec": {
      "name": "ir",
      "display_name": "R"
    },
    "language_info": {
      "name": "R"
    }
  },
  "cells": [
    {
      "cell_type": "markdown",
      "metadata": {
        "id": "view-in-github",
        "colab_type": "text"
      },
      "source": [
        "<a href=\"https://colab.research.google.com/github/AzlinRusnan/STQD-6214-Mathematical-Statistic-with-Computing/blob/main/Introduction_to_R.ipynb\" target=\"_parent\"><img src=\"https://colab.research.google.com/assets/colab-badge.svg\" alt=\"Open In Colab\"/></a>"
      ]
    },
    {
      "cell_type": "code",
      "execution_count": 1,
      "metadata": {
        "id": "tIbkRsHoZ64u"
      },
      "outputs": [],
      "source": [
        "x <- 2^2-3\n",
        "y <- sqrt(sin(pi/3))\n",
        "z <- 5*log10(4*exp(1))"
      ]
    },
    {
      "cell_type": "code",
      "source": [
        "3*z/x\n",
        "x^y+x^z"
      ],
      "metadata": {
        "colab": {
          "base_uri": "https://localhost:8080/",
          "height": 52
        },
        "id": "W1L4lU1IaGjg",
        "outputId": "627ef369-5726-4c36-8b94-9c5c5ada8970"
      },
      "execution_count": 2,
      "outputs": [
        {
          "output_type": "display_data",
          "data": {
            "text/html": [
              "15.5453170984682"
            ],
            "text/markdown": "15.5453170984682",
            "text/latex": "15.5453170984682",
            "text/plain": [
              "[1] 15.54532"
            ]
          },
          "metadata": {}
        },
        {
          "output_type": "display_data",
          "data": {
            "text/html": [
              "2"
            ],
            "text/markdown": "2",
            "text/latex": "2",
            "text/plain": [
              "[1] 2"
            ]
          },
          "metadata": {}
        }
      ]
    },
    {
      "cell_type": "code",
      "source": [
        "#Vectors\n",
        "x <- c(1,2,3)\n",
        "y <- c(4,5,6)\n",
        "x*2\n",
        "z <- c(x,y)\n",
        "z"
      ],
      "metadata": {
        "colab": {
          "base_uri": "https://localhost:8080/",
          "height": 52
        },
        "id": "FDndm2Z5aJFX",
        "outputId": "91b8d7e6-0964-4e87-9f89-c041de0f39b1"
      },
      "execution_count": 3,
      "outputs": [
        {
          "output_type": "display_data",
          "data": {
            "text/html": [
              "<style>\n",
              ".list-inline {list-style: none; margin:0; padding: 0}\n",
              ".list-inline>li {display: inline-block}\n",
              ".list-inline>li:not(:last-child)::after {content: \"\\00b7\"; padding: 0 .5ex}\n",
              "</style>\n",
              "<ol class=list-inline><li>2</li><li>4</li><li>6</li></ol>\n"
            ],
            "text/markdown": "1. 2\n2. 4\n3. 6\n\n\n",
            "text/latex": "\\begin{enumerate*}\n\\item 2\n\\item 4\n\\item 6\n\\end{enumerate*}\n",
            "text/plain": [
              "[1] 2 4 6"
            ]
          },
          "metadata": {}
        },
        {
          "output_type": "display_data",
          "data": {
            "text/html": [
              "<style>\n",
              ".list-inline {list-style: none; margin:0; padding: 0}\n",
              ".list-inline>li {display: inline-block}\n",
              ".list-inline>li:not(:last-child)::after {content: \"\\00b7\"; padding: 0 .5ex}\n",
              "</style>\n",
              "<ol class=list-inline><li>1</li><li>2</li><li>3</li><li>4</li><li>5</li><li>6</li></ol>\n"
            ],
            "text/markdown": "1. 1\n2. 2\n3. 3\n4. 4\n5. 5\n6. 6\n\n\n",
            "text/latex": "\\begin{enumerate*}\n\\item 1\n\\item 2\n\\item 3\n\\item 4\n\\item 5\n\\item 6\n\\end{enumerate*}\n",
            "text/plain": [
              "[1] 1 2 3 4 5 6"
            ]
          },
          "metadata": {}
        }
      ]
    },
    {
      "cell_type": "code",
      "source": [
        "#selecting elements from a vector\n",
        "x\n",
        "#[1] 1 2 3\n",
        "x[c(2,3,1,4)]\n",
        "#[1]  2  3  1 NA\n",
        "x[x>1]\n",
        "#[1] 2 3\n",
        "length(x)\n",
        "#[1] 3"
      ],
      "metadata": {
        "colab": {
          "base_uri": "https://localhost:8080/",
          "height": 86
        },
        "id": "ibUpBAe9aMn6",
        "outputId": "87644f5f-bf6b-4e2a-96bf-28430ec87305"
      },
      "execution_count": 4,
      "outputs": [
        {
          "output_type": "display_data",
          "data": {
            "text/html": [
              "<style>\n",
              ".list-inline {list-style: none; margin:0; padding: 0}\n",
              ".list-inline>li {display: inline-block}\n",
              ".list-inline>li:not(:last-child)::after {content: \"\\00b7\"; padding: 0 .5ex}\n",
              "</style>\n",
              "<ol class=list-inline><li>1</li><li>2</li><li>3</li></ol>\n"
            ],
            "text/markdown": "1. 1\n2. 2\n3. 3\n\n\n",
            "text/latex": "\\begin{enumerate*}\n\\item 1\n\\item 2\n\\item 3\n\\end{enumerate*}\n",
            "text/plain": [
              "[1] 1 2 3"
            ]
          },
          "metadata": {}
        },
        {
          "output_type": "display_data",
          "data": {
            "text/html": [
              "<style>\n",
              ".list-inline {list-style: none; margin:0; padding: 0}\n",
              ".list-inline>li {display: inline-block}\n",
              ".list-inline>li:not(:last-child)::after {content: \"\\00b7\"; padding: 0 .5ex}\n",
              "</style>\n",
              "<ol class=list-inline><li>2</li><li>3</li><li>1</li><li>&lt;NA&gt;</li></ol>\n"
            ],
            "text/markdown": "1. 2\n2. 3\n3. 1\n4. &lt;NA&gt;\n\n\n",
            "text/latex": "\\begin{enumerate*}\n\\item 2\n\\item 3\n\\item 1\n\\item <NA>\n\\end{enumerate*}\n",
            "text/plain": [
              "[1]  2  3  1 NA"
            ]
          },
          "metadata": {}
        },
        {
          "output_type": "display_data",
          "data": {
            "text/html": [
              "<style>\n",
              ".list-inline {list-style: none; margin:0; padding: 0}\n",
              ".list-inline>li {display: inline-block}\n",
              ".list-inline>li:not(:last-child)::after {content: \"\\00b7\"; padding: 0 .5ex}\n",
              "</style>\n",
              "<ol class=list-inline><li>2</li><li>3</li></ol>\n"
            ],
            "text/markdown": "1. 2\n2. 3\n\n\n",
            "text/latex": "\\begin{enumerate*}\n\\item 2\n\\item 3\n\\end{enumerate*}\n",
            "text/plain": [
              "[1] 2 3"
            ]
          },
          "metadata": {}
        },
        {
          "output_type": "display_data",
          "data": {
            "text/html": [
              "3"
            ],
            "text/markdown": "3",
            "text/latex": "3",
            "text/plain": [
              "[1] 3"
            ]
          },
          "metadata": {}
        }
      ]
    },
    {
      "cell_type": "code",
      "source": [
        "30:11\n",
        "seq(1,10, by = 0.5)\n",
        "seq(1,10, length.out=5)\n",
        "seq(1,10,5)"
      ],
      "metadata": {
        "colab": {
          "base_uri": "https://localhost:8080/",
          "height": 86
        },
        "id": "R10gFaksaPkx",
        "outputId": "ab2c0a14-5bd5-416d-8926-37aab5bc9e97"
      },
      "execution_count": 5,
      "outputs": [
        {
          "output_type": "display_data",
          "data": {
            "text/html": [
              "<style>\n",
              ".list-inline {list-style: none; margin:0; padding: 0}\n",
              ".list-inline>li {display: inline-block}\n",
              ".list-inline>li:not(:last-child)::after {content: \"\\00b7\"; padding: 0 .5ex}\n",
              "</style>\n",
              "<ol class=list-inline><li>30</li><li>29</li><li>28</li><li>27</li><li>26</li><li>25</li><li>24</li><li>23</li><li>22</li><li>21</li><li>20</li><li>19</li><li>18</li><li>17</li><li>16</li><li>15</li><li>14</li><li>13</li><li>12</li><li>11</li></ol>\n"
            ],
            "text/markdown": "1. 30\n2. 29\n3. 28\n4. 27\n5. 26\n6. 25\n7. 24\n8. 23\n9. 22\n10. 21\n11. 20\n12. 19\n13. 18\n14. 17\n15. 16\n16. 15\n17. 14\n18. 13\n19. 12\n20. 11\n\n\n",
            "text/latex": "\\begin{enumerate*}\n\\item 30\n\\item 29\n\\item 28\n\\item 27\n\\item 26\n\\item 25\n\\item 24\n\\item 23\n\\item 22\n\\item 21\n\\item 20\n\\item 19\n\\item 18\n\\item 17\n\\item 16\n\\item 15\n\\item 14\n\\item 13\n\\item 12\n\\item 11\n\\end{enumerate*}\n",
            "text/plain": [
              " [1] 30 29 28 27 26 25 24 23 22 21 20 19 18 17 16 15 14 13 12 11"
            ]
          },
          "metadata": {}
        },
        {
          "output_type": "display_data",
          "data": {
            "text/html": [
              "<style>\n",
              ".list-inline {list-style: none; margin:0; padding: 0}\n",
              ".list-inline>li {display: inline-block}\n",
              ".list-inline>li:not(:last-child)::after {content: \"\\00b7\"; padding: 0 .5ex}\n",
              "</style>\n",
              "<ol class=list-inline><li>1</li><li>1.5</li><li>2</li><li>2.5</li><li>3</li><li>3.5</li><li>4</li><li>4.5</li><li>5</li><li>5.5</li><li>6</li><li>6.5</li><li>7</li><li>7.5</li><li>8</li><li>8.5</li><li>9</li><li>9.5</li><li>10</li></ol>\n"
            ],
            "text/markdown": "1. 1\n2. 1.5\n3. 2\n4. 2.5\n5. 3\n6. 3.5\n7. 4\n8. 4.5\n9. 5\n10. 5.5\n11. 6\n12. 6.5\n13. 7\n14. 7.5\n15. 8\n16. 8.5\n17. 9\n18. 9.5\n19. 10\n\n\n",
            "text/latex": "\\begin{enumerate*}\n\\item 1\n\\item 1.5\n\\item 2\n\\item 2.5\n\\item 3\n\\item 3.5\n\\item 4\n\\item 4.5\n\\item 5\n\\item 5.5\n\\item 6\n\\item 6.5\n\\item 7\n\\item 7.5\n\\item 8\n\\item 8.5\n\\item 9\n\\item 9.5\n\\item 10\n\\end{enumerate*}\n",
            "text/plain": [
              " [1]  1.0  1.5  2.0  2.5  3.0  3.5  4.0  4.5  5.0  5.5  6.0  6.5  7.0  7.5  8.0\n",
              "[16]  8.5  9.0  9.5 10.0"
            ]
          },
          "metadata": {}
        },
        {
          "output_type": "display_data",
          "data": {
            "text/html": [
              "<style>\n",
              ".list-inline {list-style: none; margin:0; padding: 0}\n",
              ".list-inline>li {display: inline-block}\n",
              ".list-inline>li:not(:last-child)::after {content: \"\\00b7\"; padding: 0 .5ex}\n",
              "</style>\n",
              "<ol class=list-inline><li>1</li><li>3.25</li><li>5.5</li><li>7.75</li><li>10</li></ol>\n"
            ],
            "text/markdown": "1. 1\n2. 3.25\n3. 5.5\n4. 7.75\n5. 10\n\n\n",
            "text/latex": "\\begin{enumerate*}\n\\item 1\n\\item 3.25\n\\item 5.5\n\\item 7.75\n\\item 10\n\\end{enumerate*}\n",
            "text/plain": [
              "[1]  1.00  3.25  5.50  7.75 10.00"
            ]
          },
          "metadata": {}
        },
        {
          "output_type": "display_data",
          "data": {
            "text/html": [
              "<style>\n",
              ".list-inline {list-style: none; margin:0; padding: 0}\n",
              ".list-inline>li {display: inline-block}\n",
              ".list-inline>li:not(:last-child)::after {content: \"\\00b7\"; padding: 0 .5ex}\n",
              "</style>\n",
              "<ol class=list-inline><li>1</li><li>6</li></ol>\n"
            ],
            "text/markdown": "1. 1\n2. 6\n\n\n",
            "text/latex": "\\begin{enumerate*}\n\\item 1\n\\item 6\n\\end{enumerate*}\n",
            "text/plain": [
              "[1] 1 6"
            ]
          },
          "metadata": {}
        }
      ]
    },
    {
      "cell_type": "code",
      "source": [
        "#repetition\n",
        "rep(2,6)\n",
        "\n",
        "rep(y,c(2,3,1))\n",
        "rep(y,rep(2,3))\n",
        "\n",
        "vector(0)\n",
        "vector(\"numeric\",5)\n"
      ],
      "metadata": {
        "colab": {
          "base_uri": "https://localhost:8080/",
          "height": 192
        },
        "id": "j5yx97vTaTRl",
        "outputId": "f1b3ed20-fa47-48ad-fe7c-5880515f0101"
      },
      "execution_count": 6,
      "outputs": [
        {
          "output_type": "display_data",
          "data": {
            "text/html": [
              "<style>\n",
              ".list-inline {list-style: none; margin:0; padding: 0}\n",
              ".list-inline>li {display: inline-block}\n",
              ".list-inline>li:not(:last-child)::after {content: \"\\00b7\"; padding: 0 .5ex}\n",
              "</style>\n",
              "<ol class=list-inline><li>2</li><li>2</li><li>2</li><li>2</li><li>2</li><li>2</li></ol>\n"
            ],
            "text/markdown": "1. 2\n2. 2\n3. 2\n4. 2\n5. 2\n6. 2\n\n\n",
            "text/latex": "\\begin{enumerate*}\n\\item 2\n\\item 2\n\\item 2\n\\item 2\n\\item 2\n\\item 2\n\\end{enumerate*}\n",
            "text/plain": [
              "[1] 2 2 2 2 2 2"
            ]
          },
          "metadata": {}
        },
        {
          "output_type": "display_data",
          "data": {
            "text/html": [
              "<style>\n",
              ".list-inline {list-style: none; margin:0; padding: 0}\n",
              ".list-inline>li {display: inline-block}\n",
              ".list-inline>li:not(:last-child)::after {content: \"\\00b7\"; padding: 0 .5ex}\n",
              "</style>\n",
              "<ol class=list-inline><li>4</li><li>4</li><li>5</li><li>5</li><li>5</li><li>6</li></ol>\n"
            ],
            "text/markdown": "1. 4\n2. 4\n3. 5\n4. 5\n5. 5\n6. 6\n\n\n",
            "text/latex": "\\begin{enumerate*}\n\\item 4\n\\item 4\n\\item 5\n\\item 5\n\\item 5\n\\item 6\n\\end{enumerate*}\n",
            "text/plain": [
              "[1] 4 4 5 5 5 6"
            ]
          },
          "metadata": {}
        },
        {
          "output_type": "display_data",
          "data": {
            "text/html": [
              "<style>\n",
              ".list-inline {list-style: none; margin:0; padding: 0}\n",
              ".list-inline>li {display: inline-block}\n",
              ".list-inline>li:not(:last-child)::after {content: \"\\00b7\"; padding: 0 .5ex}\n",
              "</style>\n",
              "<ol class=list-inline><li>4</li><li>4</li><li>5</li><li>5</li><li>6</li><li>6</li></ol>\n"
            ],
            "text/markdown": "1. 4\n2. 4\n3. 5\n4. 5\n5. 6\n6. 6\n\n\n",
            "text/latex": "\\begin{enumerate*}\n\\item 4\n\\item 4\n\\item 5\n\\item 5\n\\item 6\n\\item 6\n\\end{enumerate*}\n",
            "text/plain": [
              "[1] 4 4 5 5 6 6"
            ]
          },
          "metadata": {}
        },
        {
          "output_type": "error",
          "ename": "ERROR",
          "evalue": "ignored",
          "traceback": [
            "Error in vector(0): vector: cannot make a vector of mode '0'.\nTraceback:\n",
            "1. vector(0)"
          ]
        }
      ]
    },
    {
      "cell_type": "code",
      "source": [
        "#Exercise\n",
        "x <- seq(2,10,length.out=30)\n",
        "x\n",
        "sum(x)\n",
        "x[15]\n",
        "x[x>5]\n",
        "length(x[x>5])"
      ],
      "metadata": {
        "colab": {
          "base_uri": "https://localhost:8080/",
          "height": 156
        },
        "id": "lsQFgFySaYPh",
        "outputId": "c97ec7a9-6f64-45db-b9cc-93d20b724b98"
      },
      "execution_count": 7,
      "outputs": [
        {
          "output_type": "display_data",
          "data": {
            "text/html": [
              "<style>\n",
              ".list-inline {list-style: none; margin:0; padding: 0}\n",
              ".list-inline>li {display: inline-block}\n",
              ".list-inline>li:not(:last-child)::after {content: \"\\00b7\"; padding: 0 .5ex}\n",
              "</style>\n",
              "<ol class=list-inline><li>2</li><li>2.27586206896552</li><li>2.55172413793103</li><li>2.82758620689655</li><li>3.10344827586207</li><li>3.37931034482759</li><li>3.6551724137931</li><li>3.93103448275862</li><li>4.20689655172414</li><li>4.48275862068965</li><li>4.75862068965517</li><li>5.03448275862069</li><li>5.31034482758621</li><li>5.58620689655172</li><li>5.86206896551724</li><li>6.13793103448276</li><li>6.41379310344828</li><li>6.68965517241379</li><li>6.96551724137931</li><li>7.24137931034483</li><li>7.51724137931035</li><li>7.79310344827586</li><li>8.06896551724138</li><li>8.3448275862069</li><li>8.62068965517241</li><li>8.89655172413793</li><li>9.17241379310345</li><li>9.44827586206896</li><li>9.72413793103448</li><li>10</li></ol>\n"
            ],
            "text/markdown": "1. 2\n2. 2.27586206896552\n3. 2.55172413793103\n4. 2.82758620689655\n5. 3.10344827586207\n6. 3.37931034482759\n7. 3.6551724137931\n8. 3.93103448275862\n9. 4.20689655172414\n10. 4.48275862068965\n11. 4.75862068965517\n12. 5.03448275862069\n13. 5.31034482758621\n14. 5.58620689655172\n15. 5.86206896551724\n16. 6.13793103448276\n17. 6.41379310344828\n18. 6.68965517241379\n19. 6.96551724137931\n20. 7.24137931034483\n21. 7.51724137931035\n22. 7.79310344827586\n23. 8.06896551724138\n24. 8.3448275862069\n25. 8.62068965517241\n26. 8.89655172413793\n27. 9.17241379310345\n28. 9.44827586206896\n29. 9.72413793103448\n30. 10\n\n\n",
            "text/latex": "\\begin{enumerate*}\n\\item 2\n\\item 2.27586206896552\n\\item 2.55172413793103\n\\item 2.82758620689655\n\\item 3.10344827586207\n\\item 3.37931034482759\n\\item 3.6551724137931\n\\item 3.93103448275862\n\\item 4.20689655172414\n\\item 4.48275862068965\n\\item 4.75862068965517\n\\item 5.03448275862069\n\\item 5.31034482758621\n\\item 5.58620689655172\n\\item 5.86206896551724\n\\item 6.13793103448276\n\\item 6.41379310344828\n\\item 6.68965517241379\n\\item 6.96551724137931\n\\item 7.24137931034483\n\\item 7.51724137931035\n\\item 7.79310344827586\n\\item 8.06896551724138\n\\item 8.3448275862069\n\\item 8.62068965517241\n\\item 8.89655172413793\n\\item 9.17241379310345\n\\item 9.44827586206896\n\\item 9.72413793103448\n\\item 10\n\\end{enumerate*}\n",
            "text/plain": [
              " [1]  2.000000  2.275862  2.551724  2.827586  3.103448  3.379310  3.655172\n",
              " [8]  3.931034  4.206897  4.482759  4.758621  5.034483  5.310345  5.586207\n",
              "[15]  5.862069  6.137931  6.413793  6.689655  6.965517  7.241379  7.517241\n",
              "[22]  7.793103  8.068966  8.344828  8.620690  8.896552  9.172414  9.448276\n",
              "[29]  9.724138 10.000000"
            ]
          },
          "metadata": {}
        },
        {
          "output_type": "display_data",
          "data": {
            "text/html": [
              "180"
            ],
            "text/markdown": "180",
            "text/latex": "180",
            "text/plain": [
              "[1] 180"
            ]
          },
          "metadata": {}
        },
        {
          "output_type": "display_data",
          "data": {
            "text/html": [
              "5.86206896551724"
            ],
            "text/markdown": "5.86206896551724",
            "text/latex": "5.86206896551724",
            "text/plain": [
              "[1] 5.862069"
            ]
          },
          "metadata": {}
        },
        {
          "output_type": "display_data",
          "data": {
            "text/html": [
              "<style>\n",
              ".list-inline {list-style: none; margin:0; padding: 0}\n",
              ".list-inline>li {display: inline-block}\n",
              ".list-inline>li:not(:last-child)::after {content: \"\\00b7\"; padding: 0 .5ex}\n",
              "</style>\n",
              "<ol class=list-inline><li>5.03448275862069</li><li>5.31034482758621</li><li>5.58620689655172</li><li>5.86206896551724</li><li>6.13793103448276</li><li>6.41379310344828</li><li>6.68965517241379</li><li>6.96551724137931</li><li>7.24137931034483</li><li>7.51724137931035</li><li>7.79310344827586</li><li>8.06896551724138</li><li>8.3448275862069</li><li>8.62068965517241</li><li>8.89655172413793</li><li>9.17241379310345</li><li>9.44827586206896</li><li>9.72413793103448</li><li>10</li></ol>\n"
            ],
            "text/markdown": "1. 5.03448275862069\n2. 5.31034482758621\n3. 5.58620689655172\n4. 5.86206896551724\n5. 6.13793103448276\n6. 6.41379310344828\n7. 6.68965517241379\n8. 6.96551724137931\n9. 7.24137931034483\n10. 7.51724137931035\n11. 7.79310344827586\n12. 8.06896551724138\n13. 8.3448275862069\n14. 8.62068965517241\n15. 8.89655172413793\n16. 9.17241379310345\n17. 9.44827586206896\n18. 9.72413793103448\n19. 10\n\n\n",
            "text/latex": "\\begin{enumerate*}\n\\item 5.03448275862069\n\\item 5.31034482758621\n\\item 5.58620689655172\n\\item 5.86206896551724\n\\item 6.13793103448276\n\\item 6.41379310344828\n\\item 6.68965517241379\n\\item 6.96551724137931\n\\item 7.24137931034483\n\\item 7.51724137931035\n\\item 7.79310344827586\n\\item 8.06896551724138\n\\item 8.3448275862069\n\\item 8.62068965517241\n\\item 8.89655172413793\n\\item 9.17241379310345\n\\item 9.44827586206896\n\\item 9.72413793103448\n\\item 10\n\\end{enumerate*}\n",
            "text/plain": [
              " [1]  5.034483  5.310345  5.586207  5.862069  6.137931  6.413793  6.689655\n",
              " [8]  6.965517  7.241379  7.517241  7.793103  8.068966  8.344828  8.620690\n",
              "[15]  8.896552  9.172414  9.448276  9.724138 10.000000"
            ]
          },
          "metadata": {}
        },
        {
          "output_type": "display_data",
          "data": {
            "text/html": [
              "19"
            ],
            "text/markdown": "19",
            "text/latex": "19",
            "text/plain": [
              "[1] 19"
            ]
          },
          "metadata": {}
        }
      ]
    },
    {
      "cell_type": "code",
      "source": [
        "#1. Evaluate the following expressions.\n",
        "#a) 12.3 + 232.2\n",
        "12.3 + 232.2\n",
        "\n",
        "#b) log(𝑒2 + 3)\n",
        "log(exp(2)+3)\n",
        "\n",
        "#c) sin(𝜋/4+ 3)\n",
        "sin(pi/4+3)\n",
        "\n",
        "#d) tan−1(1.3^2)\n",
        "atan(1.3^2)"
      ],
      "metadata": {
        "colab": {
          "base_uri": "https://localhost:8080/",
          "height": 86
        },
        "id": "X_zWUlGfaZ6k",
        "outputId": "9e398057-c028-4e3f-ba9c-6f17006966d6"
      },
      "execution_count": 8,
      "outputs": [
        {
          "output_type": "display_data",
          "data": {
            "text/html": [
              "244.5"
            ],
            "text/markdown": "244.5",
            "text/latex": "244.5",
            "text/plain": [
              "[1] 244.5"
            ]
          },
          "metadata": {}
        },
        {
          "output_type": "display_data",
          "data": {
            "text/html": [
              "2.34075295391313"
            ],
            "text/markdown": "2.34075295391313",
            "text/latex": "2.34075295391313",
            "text/plain": [
              "[1] 2.340753"
            ]
          },
          "metadata": {}
        },
        {
          "output_type": "display_data",
          "data": {
            "text/html": [
              "-0.600243493009743"
            ],
            "text/markdown": "-0.600243493009743",
            "text/latex": "-0.600243493009743",
            "text/plain": [
              "[1] -0.6002435"
            ]
          },
          "metadata": {}
        },
        {
          "output_type": "display_data",
          "data": {
            "text/html": [
              "1.03649028747876"
            ],
            "text/markdown": "1.03649028747876",
            "text/latex": "1.03649028747876",
            "text/plain": [
              "[1] 1.03649"
            ]
          },
          "metadata": {}
        }
      ]
    },
    {
      "cell_type": "code",
      "source": [
        "#2. Let 𝑥 = 2.3 and 𝑦 = 3.1. Evaluate the following expressions.\n",
        "#a) √𝑥4 − 5y\n",
        "x <- 2.3\n",
        "y <- 3.1\n",
        "sqrt(x^4-5*y)\n",
        "\n",
        "#b)𝑒^𝑥 − 3𝑥 + 𝑦𝑥\n",
        "exp(x) - 3*x + y^x\n",
        "\n",
        "#c) cos−1(𝑥/𝑦)\n",
        "acos(x/y)\n",
        "\n",
        "#d) log(𝑧 +3𝑧) where 𝑧 = 𝑥2 − log(10𝑦)\n",
        "z <- x^2-log(10*y)\n",
        "log(z+3/z)"
      ],
      "metadata": {
        "colab": {
          "base_uri": "https://localhost:8080/",
          "height": 86
        },
        "id": "9faN5WRPaeN8",
        "outputId": "7405d78d-58fb-43c0-9eb4-81a34065e1a1"
      },
      "execution_count": 9,
      "outputs": [
        {
          "output_type": "display_data",
          "data": {
            "text/html": [
              "3.53328459085877"
            ],
            "text/markdown": "3.53328459085877",
            "text/latex": "3.53328459085877",
            "text/plain": [
              "[1] 3.533285"
            ]
          },
          "metadata": {}
        },
        {
          "output_type": "display_data",
          "data": {
            "text/html": [
              "16.5679087213338"
            ],
            "text/markdown": "16.5679087213338",
            "text/latex": "16.5679087213338",
            "text/plain": [
              "[1] 16.56791"
            ]
          },
          "metadata": {}
        },
        {
          "output_type": "display_data",
          "data": {
            "text/html": [
              "0.734843809239603"
            ],
            "text/markdown": "0.734843809239603",
            "text/latex": "0.734843809239603",
            "text/plain": [
              "[1] 0.7348438"
            ]
          },
          "metadata": {}
        },
        {
          "output_type": "display_data",
          "data": {
            "text/html": [
              "1.24484051497213"
            ],
            "text/markdown": "1.24484051497213",
            "text/latex": "1.24484051497213",
            "text/plain": [
              "[1] 1.244841"
            ]
          },
          "metadata": {}
        }
      ]
    },
    {
      "cell_type": "code",
      "source": [
        "#3. Let 𝑥 = 2.3 and 𝑦 = 3.1. Determine whether the following expressions are true or false\n",
        "x <- 2.3\n",
        "y <- 3.1\n",
        "#a) 3𝑥 > 2𝑦\n",
        "3*x > 2*y\n",
        "#TRUE\n",
        "\n",
        "#b) 𝑥^𝑦 ≤ 𝑦^𝑥 AND 3^𝑥 > 𝑦^2.2\n",
        "(x^y <= y^x) & (3^x > y^2.2)\n",
        "# TRUE\n",
        "\n",
        "#c) cos(𝑥) = 0 OR sin(𝑦) > 0\n",
        "(cos(x) == 0) | (sin(y) > 0)\n",
        "# TRUE"
      ],
      "metadata": {
        "colab": {
          "base_uri": "https://localhost:8080/",
          "height": 69
        },
        "id": "52eXe1egahgv",
        "outputId": "33038e00-de78-45cf-d60c-9d4c42f83507"
      },
      "execution_count": 10,
      "outputs": [
        {
          "output_type": "display_data",
          "data": {
            "text/html": [
              "TRUE"
            ],
            "text/markdown": "TRUE",
            "text/latex": "TRUE",
            "text/plain": [
              "[1] TRUE"
            ]
          },
          "metadata": {}
        },
        {
          "output_type": "display_data",
          "data": {
            "text/html": [
              "TRUE"
            ],
            "text/markdown": "TRUE",
            "text/latex": "TRUE",
            "text/plain": [
              "[1] TRUE"
            ]
          },
          "metadata": {}
        },
        {
          "output_type": "display_data",
          "data": {
            "text/html": [
              "TRUE"
            ],
            "text/markdown": "TRUE",
            "text/latex": "TRUE",
            "text/plain": [
              "[1] TRUE"
            ]
          },
          "metadata": {}
        }
      ]
    },
    {
      "cell_type": "code",
      "source": [
        "#4. Let 𝒙 and 𝒚 be vectors where 𝒙 = (6,4,3,20) and 𝒚 = (12,46,2,1). Evaluate the following expressions.\n",
        "#a) 𝒙 + 2𝒚\n",
        "x <- c(6,4,3,20)\n",
        "y <- c(12,46,2,1)\n",
        "x + 2*y\n",
        "#[1] 30 96  7 22\n",
        "\n",
        "#b) ∑ 𝑥𝑖𝑦𝑖\n",
        "sum(x*y)\n",
        "\n",
        "#c)max(𝒛) where the 𝑖th component of 𝑧𝑖 = 𝑥𝑖 2 − 10𝑦𝑖. Which component gives this maximum value of 𝒛?\n",
        "z <- x^2 - 10*y\n",
        "max(z)\n",
        "which.max(z)\n",
        "\n",
        "#d) How would you code to get the components of 𝒚 that is bigger than 10?\n",
        "y[y>10]\n",
        "\n",
        "#e) Run this following code: c(x, y). What do you think happen here?\n",
        "c(x,y)\n",
        "\n",
        "#f) Run this following code: sum(x[x>5]). What do you think happen here?\n",
        "sum(x[x>5])\n",
        "\n",
        "#g) Run this following code: sum(x>5). What do you think happen here?\n",
        "sum(x>5)\n"
      ],
      "metadata": {
        "colab": {
          "base_uri": "https://localhost:8080/",
          "height": 156
        },
        "id": "OyeUY8T6amRr",
        "outputId": "6e40cc75-2922-4e19-8d58-413afd886056"
      },
      "execution_count": 11,
      "outputs": [
        {
          "output_type": "display_data",
          "data": {
            "text/html": [
              "<style>\n",
              ".list-inline {list-style: none; margin:0; padding: 0}\n",
              ".list-inline>li {display: inline-block}\n",
              ".list-inline>li:not(:last-child)::after {content: \"\\00b7\"; padding: 0 .5ex}\n",
              "</style>\n",
              "<ol class=list-inline><li>30</li><li>96</li><li>7</li><li>22</li></ol>\n"
            ],
            "text/markdown": "1. 30\n2. 96\n3. 7\n4. 22\n\n\n",
            "text/latex": "\\begin{enumerate*}\n\\item 30\n\\item 96\n\\item 7\n\\item 22\n\\end{enumerate*}\n",
            "text/plain": [
              "[1] 30 96  7 22"
            ]
          },
          "metadata": {}
        },
        {
          "output_type": "display_data",
          "data": {
            "text/html": [
              "282"
            ],
            "text/markdown": "282",
            "text/latex": "282",
            "text/plain": [
              "[1] 282"
            ]
          },
          "metadata": {}
        },
        {
          "output_type": "display_data",
          "data": {
            "text/html": [
              "390"
            ],
            "text/markdown": "390",
            "text/latex": "390",
            "text/plain": [
              "[1] 390"
            ]
          },
          "metadata": {}
        },
        {
          "output_type": "display_data",
          "data": {
            "text/html": [
              "4"
            ],
            "text/markdown": "4",
            "text/latex": "4",
            "text/plain": [
              "[1] 4"
            ]
          },
          "metadata": {}
        },
        {
          "output_type": "display_data",
          "data": {
            "text/html": [
              "<style>\n",
              ".list-inline {list-style: none; margin:0; padding: 0}\n",
              ".list-inline>li {display: inline-block}\n",
              ".list-inline>li:not(:last-child)::after {content: \"\\00b7\"; padding: 0 .5ex}\n",
              "</style>\n",
              "<ol class=list-inline><li>12</li><li>46</li></ol>\n"
            ],
            "text/markdown": "1. 12\n2. 46\n\n\n",
            "text/latex": "\\begin{enumerate*}\n\\item 12\n\\item 46\n\\end{enumerate*}\n",
            "text/plain": [
              "[1] 12 46"
            ]
          },
          "metadata": {}
        },
        {
          "output_type": "display_data",
          "data": {
            "text/html": [
              "<style>\n",
              ".list-inline {list-style: none; margin:0; padding: 0}\n",
              ".list-inline>li {display: inline-block}\n",
              ".list-inline>li:not(:last-child)::after {content: \"\\00b7\"; padding: 0 .5ex}\n",
              "</style>\n",
              "<ol class=list-inline><li>6</li><li>4</li><li>3</li><li>20</li><li>12</li><li>46</li><li>2</li><li>1</li></ol>\n"
            ],
            "text/markdown": "1. 6\n2. 4\n3. 3\n4. 20\n5. 12\n6. 46\n7. 2\n8. 1\n\n\n",
            "text/latex": "\\begin{enumerate*}\n\\item 6\n\\item 4\n\\item 3\n\\item 20\n\\item 12\n\\item 46\n\\item 2\n\\item 1\n\\end{enumerate*}\n",
            "text/plain": [
              "[1]  6  4  3 20 12 46  2  1"
            ]
          },
          "metadata": {}
        },
        {
          "output_type": "display_data",
          "data": {
            "text/html": [
              "26"
            ],
            "text/markdown": "26",
            "text/latex": "26",
            "text/plain": [
              "[1] 26"
            ]
          },
          "metadata": {}
        },
        {
          "output_type": "display_data",
          "data": {
            "text/html": [
              "2"
            ],
            "text/markdown": "2",
            "text/latex": "2",
            "text/plain": [
              "[1] 2"
            ]
          },
          "metadata": {}
        }
      ]
    },
    {
      "cell_type": "code",
      "source": [
        "#5. Without using only the c() function, create the following:\n",
        "#a) A vector containing integers from -10 to 10.\n",
        "-10:10\n",
        "\n",
        "#b) A sequence of numbers from 0 to 100 where the length of sequence is 1000.\n",
        "seq(0,100,length.out =1000)\n",
        "\n",
        "#c) A vector of 0’s with length 10.\n",
        "rep(0,10)\n",
        "vector(\"numeric\", 10)\n",
        "\n",
        "#d) The vector (“A”, “B”, “C”, “A”, “B”, “C”, “A”, “B”, “C”).\n",
        "rep(c(\"A\",\"B\",\"C\"),3)\n",
        "\n",
        "#e) The vector (“A”, “A”, “A”, “B”, “B”, “B”, “C”, “C”, “C”).\n",
        "rep(c(\"A\",\"B\",\"C\"),each = 3)\n",
        "\n",
        "rep(c(\"A\",\"B\",\"C\"),rep(3,3))"
      ],
      "metadata": {
        "colab": {
          "base_uri": "https://localhost:8080/",
          "height": 815
        },
        "id": "n330nJ7panpe",
        "outputId": "7d94c1bf-0f58-4ec8-99e5-94baaf2d245d"
      },
      "execution_count": 12,
      "outputs": [
        {
          "output_type": "display_data",
          "data": {
            "text/html": [
              "<style>\n",
              ".list-inline {list-style: none; margin:0; padding: 0}\n",
              ".list-inline>li {display: inline-block}\n",
              ".list-inline>li:not(:last-child)::after {content: \"\\00b7\"; padding: 0 .5ex}\n",
              "</style>\n",
              "<ol class=list-inline><li>-10</li><li>-9</li><li>-8</li><li>-7</li><li>-6</li><li>-5</li><li>-4</li><li>-3</li><li>-2</li><li>-1</li><li>0</li><li>1</li><li>2</li><li>3</li><li>4</li><li>5</li><li>6</li><li>7</li><li>8</li><li>9</li><li>10</li></ol>\n"
            ],
            "text/markdown": "1. -10\n2. -9\n3. -8\n4. -7\n5. -6\n6. -5\n7. -4\n8. -3\n9. -2\n10. -1\n11. 0\n12. 1\n13. 2\n14. 3\n15. 4\n16. 5\n17. 6\n18. 7\n19. 8\n20. 9\n21. 10\n\n\n",
            "text/latex": "\\begin{enumerate*}\n\\item -10\n\\item -9\n\\item -8\n\\item -7\n\\item -6\n\\item -5\n\\item -4\n\\item -3\n\\item -2\n\\item -1\n\\item 0\n\\item 1\n\\item 2\n\\item 3\n\\item 4\n\\item 5\n\\item 6\n\\item 7\n\\item 8\n\\item 9\n\\item 10\n\\end{enumerate*}\n",
            "text/plain": [
              " [1] -10  -9  -8  -7  -6  -5  -4  -3  -2  -1   0   1   2   3   4   5   6   7   8\n",
              "[20]   9  10"
            ]
          },
          "metadata": {}
        },
        {
          "output_type": "display_data",
          "data": {
            "text/html": [
              "<style>\n",
              ".list-inline {list-style: none; margin:0; padding: 0}\n",
              ".list-inline>li {display: inline-block}\n",
              ".list-inline>li:not(:last-child)::after {content: \"\\00b7\"; padding: 0 .5ex}\n",
              "</style>\n",
              "<ol class=list-inline><li>0</li><li>0.1001001001001</li><li>0.2002002002002</li><li>0.3003003003003</li><li>0.4004004004004</li><li>0.500500500500501</li><li>0.600600600600601</li><li>0.700700700700701</li><li>0.800800800800801</li><li>0.900900900900901</li><li>1.001001001001</li><li>1.1011011011011</li><li>1.2012012012012</li><li>1.3013013013013</li><li>1.4014014014014</li><li>1.5015015015015</li><li>1.6016016016016</li><li>1.7017017017017</li><li>1.8018018018018</li><li>1.9019019019019</li><li>2.002002002002</li><li>2.1021021021021</li><li>2.2022022022022</li><li>2.3023023023023</li><li>2.4024024024024</li><li>2.5025025025025</li><li>2.6026026026026</li><li>2.7027027027027</li><li>2.8028028028028</li><li>2.9029029029029</li><li>3.003003003003</li><li>3.1031031031031</li><li>3.2032032032032</li><li>3.3033033033033</li><li>3.4034034034034</li><li>3.5035035035035</li><li>3.6036036036036</li><li>3.7037037037037</li><li>3.8038038038038</li><li>3.9039039039039</li><li>4.004004004004</li><li>4.1041041041041</li><li>4.2042042042042</li><li>4.3043043043043</li><li>4.4044044044044</li><li>4.5045045045045</li><li>4.6046046046046</li><li>4.7047047047047</li><li>4.8048048048048</li><li>4.9049049049049</li><li>5.00500500500501</li><li>5.10510510510511</li><li>5.20520520520521</li><li>5.30530530530531</li><li>5.40540540540541</li><li>5.50550550550551</li><li>5.60560560560561</li><li>5.70570570570571</li><li>5.80580580580581</li><li>5.90590590590591</li><li>6.00600600600601</li><li>6.10610610610611</li><li>6.20620620620621</li><li>6.30630630630631</li><li>6.40640640640641</li><li>6.50650650650651</li><li>6.60660660660661</li><li>6.70670670670671</li><li>6.80680680680681</li><li>6.90690690690691</li><li>7.00700700700701</li><li>7.10710710710711</li><li>7.20720720720721</li><li>7.30730730730731</li><li>7.40740740740741</li><li>7.50750750750751</li><li>7.60760760760761</li><li>7.70770770770771</li><li>7.80780780780781</li><li>7.90790790790791</li><li>8.00800800800801</li><li>8.10810810810811</li><li>8.20820820820821</li><li>8.30830830830831</li><li>8.40840840840841</li><li>8.50850850850851</li><li>8.60860860860861</li><li>8.70870870870871</li><li>8.80880880880881</li><li>8.90890890890891</li><li>9.00900900900901</li><li>9.10910910910911</li><li>9.20920920920921</li><li>9.30930930930931</li><li>9.40940940940941</li><li>9.50950950950951</li><li>9.60960960960961</li><li>9.70970970970971</li><li>9.80980980980981</li><li>9.90990990990991</li><li>10.01001001001</li><li>10.1101101101101</li><li>10.2102102102102</li><li>10.3103103103103</li><li>10.4104104104104</li><li>10.5105105105105</li><li>10.6106106106106</li><li>10.7107107107107</li><li>10.8108108108108</li><li>10.9109109109109</li><li>11.011011011011</li><li>11.1111111111111</li><li>11.2112112112112</li><li>11.3113113113113</li><li>11.4114114114114</li><li>11.5115115115115</li><li>11.6116116116116</li><li>11.7117117117117</li><li>11.8118118118118</li><li>11.9119119119119</li><li>12.012012012012</li><li>12.1121121121121</li><li>12.2122122122122</li><li>12.3123123123123</li><li>12.4124124124124</li><li>12.5125125125125</li><li>12.6126126126126</li><li>12.7127127127127</li><li>12.8128128128128</li><li>12.9129129129129</li><li>13.013013013013</li><li>13.1131131131131</li><li>13.2132132132132</li><li>13.3133133133133</li><li>13.4134134134134</li><li>13.5135135135135</li><li>13.6136136136136</li><li>13.7137137137137</li><li>13.8138138138138</li><li>13.9139139139139</li><li>14.014014014014</li><li>14.1141141141141</li><li>14.2142142142142</li><li>14.3143143143143</li><li>14.4144144144144</li><li>14.5145145145145</li><li>14.6146146146146</li><li>14.7147147147147</li><li>14.8148148148148</li><li>14.9149149149149</li><li>15.015015015015</li><li>15.1151151151151</li><li>15.2152152152152</li><li>15.3153153153153</li><li>15.4154154154154</li><li>15.5155155155155</li><li>15.6156156156156</li><li>15.7157157157157</li><li>15.8158158158158</li><li>15.9159159159159</li><li>16.016016016016</li><li>16.1161161161161</li><li>16.2162162162162</li><li>16.3163163163163</li><li>16.4164164164164</li><li>16.5165165165165</li><li>16.6166166166166</li><li>16.7167167167167</li><li>16.8168168168168</li><li>16.9169169169169</li><li>17.017017017017</li><li>17.1171171171171</li><li>17.2172172172172</li><li>17.3173173173173</li><li>17.4174174174174</li><li>17.5175175175175</li><li>17.6176176176176</li><li>17.7177177177177</li><li>17.8178178178178</li><li>17.9179179179179</li><li>18.018018018018</li><li>18.1181181181181</li><li>18.2182182182182</li><li>18.3183183183183</li><li>18.4184184184184</li><li>18.5185185185185</li><li>18.6186186186186</li><li>18.7187187187187</li><li>18.8188188188188</li><li>18.9189189189189</li><li>19.019019019019</li><li>19.1191191191191</li><li>19.2192192192192</li><li>19.3193193193193</li><li>19.4194194194194</li><li>19.5195195195195</li><li>19.6196196196196</li><li>19.7197197197197</li><li>19.8198198198198</li><li>19.9199199199199</li><li>⋯</li><li>80.0800800800801</li><li>80.1801801801802</li><li>80.2802802802803</li><li>80.3803803803804</li><li>80.4804804804805</li><li>80.5805805805806</li><li>80.6806806806807</li><li>80.7807807807808</li><li>80.8808808808809</li><li>80.980980980981</li><li>81.0810810810811</li><li>81.1811811811812</li><li>81.2812812812813</li><li>81.3813813813814</li><li>81.4814814814815</li><li>81.5815815815816</li><li>81.6816816816817</li><li>81.7817817817818</li><li>81.8818818818819</li><li>81.981981981982</li><li>82.0820820820821</li><li>82.1821821821822</li><li>82.2822822822823</li><li>82.3823823823824</li><li>82.4824824824825</li><li>82.5825825825826</li><li>82.6826826826827</li><li>82.7827827827828</li><li>82.8828828828829</li><li>82.982982982983</li><li>83.0830830830831</li><li>83.1831831831832</li><li>83.2832832832833</li><li>83.3833833833834</li><li>83.4834834834835</li><li>83.5835835835836</li><li>83.6836836836837</li><li>83.7837837837838</li><li>83.8838838838839</li><li>83.983983983984</li><li>84.0840840840841</li><li>84.1841841841842</li><li>84.2842842842843</li><li>84.3843843843844</li><li>84.4844844844845</li><li>84.5845845845846</li><li>84.6846846846847</li><li>84.7847847847848</li><li>84.8848848848849</li><li>84.984984984985</li><li>85.0850850850851</li><li>85.1851851851852</li><li>85.2852852852853</li><li>85.3853853853854</li><li>85.4854854854855</li><li>85.5855855855856</li><li>85.6856856856857</li><li>85.7857857857858</li><li>85.8858858858859</li><li>85.985985985986</li><li>86.0860860860861</li><li>86.1861861861862</li><li>86.2862862862863</li><li>86.3863863863864</li><li>86.4864864864865</li><li>86.5865865865866</li><li>86.6866866866867</li><li>86.7867867867868</li><li>86.8868868868869</li><li>86.986986986987</li><li>87.0870870870871</li><li>87.1871871871872</li><li>87.2872872872873</li><li>87.3873873873874</li><li>87.4874874874875</li><li>87.5875875875876</li><li>87.6876876876877</li><li>87.7877877877878</li><li>87.8878878878879</li><li>87.987987987988</li><li>88.0880880880881</li><li>88.1881881881882</li><li>88.2882882882883</li><li>88.3883883883884</li><li>88.4884884884885</li><li>88.5885885885886</li><li>88.6886886886887</li><li>88.7887887887888</li><li>88.8888888888889</li><li>88.988988988989</li><li>89.0890890890891</li><li>89.1891891891892</li><li>89.2892892892893</li><li>89.3893893893894</li><li>89.4894894894895</li><li>89.5895895895896</li><li>89.6896896896897</li><li>89.7897897897898</li><li>89.8898898898899</li><li>89.98998998999</li><li>90.0900900900901</li><li>90.1901901901902</li><li>90.2902902902903</li><li>90.3903903903904</li><li>90.4904904904905</li><li>90.5905905905906</li><li>90.6906906906907</li><li>90.7907907907908</li><li>90.8908908908909</li><li>90.990990990991</li><li>91.0910910910911</li><li>91.1911911911912</li><li>91.2912912912913</li><li>91.3913913913914</li><li>91.4914914914915</li><li>91.5915915915916</li><li>91.6916916916917</li><li>91.7917917917918</li><li>91.8918918918919</li><li>91.991991991992</li><li>92.0920920920921</li><li>92.1921921921922</li><li>92.2922922922923</li><li>92.3923923923924</li><li>92.4924924924925</li><li>92.5925925925926</li><li>92.6926926926927</li><li>92.7927927927928</li><li>92.8928928928929</li><li>92.992992992993</li><li>93.0930930930931</li><li>93.1931931931932</li><li>93.2932932932933</li><li>93.3933933933934</li><li>93.4934934934935</li><li>93.5935935935936</li><li>93.6936936936937</li><li>93.7937937937938</li><li>93.8938938938939</li><li>93.993993993994</li><li>94.0940940940941</li><li>94.1941941941942</li><li>94.2942942942943</li><li>94.3943943943944</li><li>94.4944944944945</li><li>94.5945945945946</li><li>94.6946946946947</li><li>94.7947947947948</li><li>94.8948948948949</li><li>94.994994994995</li><li>95.0950950950951</li><li>95.1951951951952</li><li>95.2952952952953</li><li>95.3953953953954</li><li>95.4954954954955</li><li>95.5955955955956</li><li>95.6956956956957</li><li>95.7957957957958</li><li>95.8958958958959</li><li>95.995995995996</li><li>96.0960960960961</li><li>96.1961961961962</li><li>96.2962962962963</li><li>96.3963963963964</li><li>96.4964964964965</li><li>96.5965965965966</li><li>96.6966966966967</li><li>96.7967967967968</li><li>96.8968968968969</li><li>96.996996996997</li><li>97.0970970970971</li><li>97.1971971971972</li><li>97.2972972972973</li><li>97.3973973973974</li><li>97.4974974974975</li><li>97.5975975975976</li><li>97.6976976976977</li><li>97.7977977977978</li><li>97.8978978978979</li><li>97.997997997998</li><li>98.0980980980981</li><li>98.1981981981982</li><li>98.2982982982983</li><li>98.3983983983984</li><li>98.4984984984985</li><li>98.5985985985986</li><li>98.6986986986987</li><li>98.7987987987988</li><li>98.8988988988989</li><li>98.998998998999</li><li>99.0990990990991</li><li>99.1991991991992</li><li>99.2992992992993</li><li>99.3993993993994</li><li>99.4994994994995</li><li>99.5995995995996</li><li>99.6996996996997</li><li>99.7997997997998</li><li>99.8998998998999</li><li>100</li></ol>\n"
            ],
            "text/markdown": "1. 0\n2. 0.1001001001001\n3. 0.2002002002002\n4. 0.3003003003003\n5. 0.4004004004004\n6. 0.500500500500501\n7. 0.600600600600601\n8. 0.700700700700701\n9. 0.800800800800801\n10. 0.900900900900901\n11. 1.001001001001\n12. 1.1011011011011\n13. 1.2012012012012\n14. 1.3013013013013\n15. 1.4014014014014\n16. 1.5015015015015\n17. 1.6016016016016\n18. 1.7017017017017\n19. 1.8018018018018\n20. 1.9019019019019\n21. 2.002002002002\n22. 2.1021021021021\n23. 2.2022022022022\n24. 2.3023023023023\n25. 2.4024024024024\n26. 2.5025025025025\n27. 2.6026026026026\n28. 2.7027027027027\n29. 2.8028028028028\n30. 2.9029029029029\n31. 3.003003003003\n32. 3.1031031031031\n33. 3.2032032032032\n34. 3.3033033033033\n35. 3.4034034034034\n36. 3.5035035035035\n37. 3.6036036036036\n38. 3.7037037037037\n39. 3.8038038038038\n40. 3.9039039039039\n41. 4.004004004004\n42. 4.1041041041041\n43. 4.2042042042042\n44. 4.3043043043043\n45. 4.4044044044044\n46. 4.5045045045045\n47. 4.6046046046046\n48. 4.7047047047047\n49. 4.8048048048048\n50. 4.9049049049049\n51. 5.00500500500501\n52. 5.10510510510511\n53. 5.20520520520521\n54. 5.30530530530531\n55. 5.40540540540541\n56. 5.50550550550551\n57. 5.60560560560561\n58. 5.70570570570571\n59. 5.80580580580581\n60. 5.90590590590591\n61. 6.00600600600601\n62. 6.10610610610611\n63. 6.20620620620621\n64. 6.30630630630631\n65. 6.40640640640641\n66. 6.50650650650651\n67. 6.60660660660661\n68. 6.70670670670671\n69. 6.80680680680681\n70. 6.90690690690691\n71. 7.00700700700701\n72. 7.10710710710711\n73. 7.20720720720721\n74. 7.30730730730731\n75. 7.40740740740741\n76. 7.50750750750751\n77. 7.60760760760761\n78. 7.70770770770771\n79. 7.80780780780781\n80. 7.90790790790791\n81. 8.00800800800801\n82. 8.10810810810811\n83. 8.20820820820821\n84. 8.30830830830831\n85. 8.40840840840841\n86. 8.50850850850851\n87. 8.60860860860861\n88. 8.70870870870871\n89. 8.80880880880881\n90. 8.90890890890891\n91. 9.00900900900901\n92. 9.10910910910911\n93. 9.20920920920921\n94. 9.30930930930931\n95. 9.40940940940941\n96. 9.50950950950951\n97. 9.60960960960961\n98. 9.70970970970971\n99. 9.80980980980981\n100. 9.90990990990991\n101. 10.01001001001\n102. 10.1101101101101\n103. 10.2102102102102\n104. 10.3103103103103\n105. 10.4104104104104\n106. 10.5105105105105\n107. 10.6106106106106\n108. 10.7107107107107\n109. 10.8108108108108\n110. 10.9109109109109\n111. 11.011011011011\n112. 11.1111111111111\n113. 11.2112112112112\n114. 11.3113113113113\n115. 11.4114114114114\n116. 11.5115115115115\n117. 11.6116116116116\n118. 11.7117117117117\n119. 11.8118118118118\n120. 11.9119119119119\n121. 12.012012012012\n122. 12.1121121121121\n123. 12.2122122122122\n124. 12.3123123123123\n125. 12.4124124124124\n126. 12.5125125125125\n127. 12.6126126126126\n128. 12.7127127127127\n129. 12.8128128128128\n130. 12.9129129129129\n131. 13.013013013013\n132. 13.1131131131131\n133. 13.2132132132132\n134. 13.3133133133133\n135. 13.4134134134134\n136. 13.5135135135135\n137. 13.6136136136136\n138. 13.7137137137137\n139. 13.8138138138138\n140. 13.9139139139139\n141. 14.014014014014\n142. 14.1141141141141\n143. 14.2142142142142\n144. 14.3143143143143\n145. 14.4144144144144\n146. 14.5145145145145\n147. 14.6146146146146\n148. 14.7147147147147\n149. 14.8148148148148\n150. 14.9149149149149\n151. 15.015015015015\n152. 15.1151151151151\n153. 15.2152152152152\n154. 15.3153153153153\n155. 15.4154154154154\n156. 15.5155155155155\n157. 15.6156156156156\n158. 15.7157157157157\n159. 15.8158158158158\n160. 15.9159159159159\n161. 16.016016016016\n162. 16.1161161161161\n163. 16.2162162162162\n164. 16.3163163163163\n165. 16.4164164164164\n166. 16.5165165165165\n167. 16.6166166166166\n168. 16.7167167167167\n169. 16.8168168168168\n170. 16.9169169169169\n171. 17.017017017017\n172. 17.1171171171171\n173. 17.2172172172172\n174. 17.3173173173173\n175. 17.4174174174174\n176. 17.5175175175175\n177. 17.6176176176176\n178. 17.7177177177177\n179. 17.8178178178178\n180. 17.9179179179179\n181. 18.018018018018\n182. 18.1181181181181\n183. 18.2182182182182\n184. 18.3183183183183\n185. 18.4184184184184\n186. 18.5185185185185\n187. 18.6186186186186\n188. 18.7187187187187\n189. 18.8188188188188\n190. 18.9189189189189\n191. 19.019019019019\n192. 19.1191191191191\n193. 19.2192192192192\n194. 19.3193193193193\n195. 19.4194194194194\n196. 19.5195195195195\n197. 19.6196196196196\n198. 19.7197197197197\n199. 19.8198198198198\n200. 19.9199199199199\n201. ⋯\n202. 80.0800800800801\n203. 80.1801801801802\n204. 80.2802802802803\n205. 80.3803803803804\n206. 80.4804804804805\n207. 80.5805805805806\n208. 80.6806806806807\n209. 80.7807807807808\n210. 80.8808808808809\n211. 80.980980980981\n212. 81.0810810810811\n213. 81.1811811811812\n214. 81.2812812812813\n215. 81.3813813813814\n216. 81.4814814814815\n217. 81.5815815815816\n218. 81.6816816816817\n219. 81.7817817817818\n220. 81.8818818818819\n221. 81.981981981982\n222. 82.0820820820821\n223. 82.1821821821822\n224. 82.2822822822823\n225. 82.3823823823824\n226. 82.4824824824825\n227. 82.5825825825826\n228. 82.6826826826827\n229. 82.7827827827828\n230. 82.8828828828829\n231. 82.982982982983\n232. 83.0830830830831\n233. 83.1831831831832\n234. 83.2832832832833\n235. 83.3833833833834\n236. 83.4834834834835\n237. 83.5835835835836\n238. 83.6836836836837\n239. 83.7837837837838\n240. 83.8838838838839\n241. 83.983983983984\n242. 84.0840840840841\n243. 84.1841841841842\n244. 84.2842842842843\n245. 84.3843843843844\n246. 84.4844844844845\n247. 84.5845845845846\n248. 84.6846846846847\n249. 84.7847847847848\n250. 84.8848848848849\n251. 84.984984984985\n252. 85.0850850850851\n253. 85.1851851851852\n254. 85.2852852852853\n255. 85.3853853853854\n256. 85.4854854854855\n257. 85.5855855855856\n258. 85.6856856856857\n259. 85.7857857857858\n260. 85.8858858858859\n261. 85.985985985986\n262. 86.0860860860861\n263. 86.1861861861862\n264. 86.2862862862863\n265. 86.3863863863864\n266. 86.4864864864865\n267. 86.5865865865866\n268. 86.6866866866867\n269. 86.7867867867868\n270. 86.8868868868869\n271. 86.986986986987\n272. 87.0870870870871\n273. 87.1871871871872\n274. 87.2872872872873\n275. 87.3873873873874\n276. 87.4874874874875\n277. 87.5875875875876\n278. 87.6876876876877\n279. 87.7877877877878\n280. 87.8878878878879\n281. 87.987987987988\n282. 88.0880880880881\n283. 88.1881881881882\n284. 88.2882882882883\n285. 88.3883883883884\n286. 88.4884884884885\n287. 88.5885885885886\n288. 88.6886886886887\n289. 88.7887887887888\n290. 88.8888888888889\n291. 88.988988988989\n292. 89.0890890890891\n293. 89.1891891891892\n294. 89.2892892892893\n295. 89.3893893893894\n296. 89.4894894894895\n297. 89.5895895895896\n298. 89.6896896896897\n299. 89.7897897897898\n300. 89.8898898898899\n301. 89.98998998999\n302. 90.0900900900901\n303. 90.1901901901902\n304. 90.2902902902903\n305. 90.3903903903904\n306. 90.4904904904905\n307. 90.5905905905906\n308. 90.6906906906907\n309. 90.7907907907908\n310. 90.8908908908909\n311. 90.990990990991\n312. 91.0910910910911\n313. 91.1911911911912\n314. 91.2912912912913\n315. 91.3913913913914\n316. 91.4914914914915\n317. 91.5915915915916\n318. 91.6916916916917\n319. 91.7917917917918\n320. 91.8918918918919\n321. 91.991991991992\n322. 92.0920920920921\n323. 92.1921921921922\n324. 92.2922922922923\n325. 92.3923923923924\n326. 92.4924924924925\n327. 92.5925925925926\n328. 92.6926926926927\n329. 92.7927927927928\n330. 92.8928928928929\n331. 92.992992992993\n332. 93.0930930930931\n333. 93.1931931931932\n334. 93.2932932932933\n335. 93.3933933933934\n336. 93.4934934934935\n337. 93.5935935935936\n338. 93.6936936936937\n339. 93.7937937937938\n340. 93.8938938938939\n341. 93.993993993994\n342. 94.0940940940941\n343. 94.1941941941942\n344. 94.2942942942943\n345. 94.3943943943944\n346. 94.4944944944945\n347. 94.5945945945946\n348. 94.6946946946947\n349. 94.7947947947948\n350. 94.8948948948949\n351. 94.994994994995\n352. 95.0950950950951\n353. 95.1951951951952\n354. 95.2952952952953\n355. 95.3953953953954\n356. 95.4954954954955\n357. 95.5955955955956\n358. 95.6956956956957\n359. 95.7957957957958\n360. 95.8958958958959\n361. 95.995995995996\n362. 96.0960960960961\n363. 96.1961961961962\n364. 96.2962962962963\n365. 96.3963963963964\n366. 96.4964964964965\n367. 96.5965965965966\n368. 96.6966966966967\n369. 96.7967967967968\n370. 96.8968968968969\n371. 96.996996996997\n372. 97.0970970970971\n373. 97.1971971971972\n374. 97.2972972972973\n375. 97.3973973973974\n376. 97.4974974974975\n377. 97.5975975975976\n378. 97.6976976976977\n379. 97.7977977977978\n380. 97.8978978978979\n381. 97.997997997998\n382. 98.0980980980981\n383. 98.1981981981982\n384. 98.2982982982983\n385. 98.3983983983984\n386. 98.4984984984985\n387. 98.5985985985986\n388. 98.6986986986987\n389. 98.7987987987988\n390. 98.8988988988989\n391. 98.998998998999\n392. 99.0990990990991\n393. 99.1991991991992\n394. 99.2992992992993\n395. 99.3993993993994\n396. 99.4994994994995\n397. 99.5995995995996\n398. 99.6996996996997\n399. 99.7997997997998\n400. 99.8998998998999\n401. 100\n\n\n",
            "text/latex": "\\begin{enumerate*}\n\\item 0\n\\item 0.1001001001001\n\\item 0.2002002002002\n\\item 0.3003003003003\n\\item 0.4004004004004\n\\item 0.500500500500501\n\\item 0.600600600600601\n\\item 0.700700700700701\n\\item 0.800800800800801\n\\item 0.900900900900901\n\\item 1.001001001001\n\\item 1.1011011011011\n\\item 1.2012012012012\n\\item 1.3013013013013\n\\item 1.4014014014014\n\\item 1.5015015015015\n\\item 1.6016016016016\n\\item 1.7017017017017\n\\item 1.8018018018018\n\\item 1.9019019019019\n\\item 2.002002002002\n\\item 2.1021021021021\n\\item 2.2022022022022\n\\item 2.3023023023023\n\\item 2.4024024024024\n\\item 2.5025025025025\n\\item 2.6026026026026\n\\item 2.7027027027027\n\\item 2.8028028028028\n\\item 2.9029029029029\n\\item 3.003003003003\n\\item 3.1031031031031\n\\item 3.2032032032032\n\\item 3.3033033033033\n\\item 3.4034034034034\n\\item 3.5035035035035\n\\item 3.6036036036036\n\\item 3.7037037037037\n\\item 3.8038038038038\n\\item 3.9039039039039\n\\item 4.004004004004\n\\item 4.1041041041041\n\\item 4.2042042042042\n\\item 4.3043043043043\n\\item 4.4044044044044\n\\item 4.5045045045045\n\\item 4.6046046046046\n\\item 4.7047047047047\n\\item 4.8048048048048\n\\item 4.9049049049049\n\\item 5.00500500500501\n\\item 5.10510510510511\n\\item 5.20520520520521\n\\item 5.30530530530531\n\\item 5.40540540540541\n\\item 5.50550550550551\n\\item 5.60560560560561\n\\item 5.70570570570571\n\\item 5.80580580580581\n\\item 5.90590590590591\n\\item 6.00600600600601\n\\item 6.10610610610611\n\\item 6.20620620620621\n\\item 6.30630630630631\n\\item 6.40640640640641\n\\item 6.50650650650651\n\\item 6.60660660660661\n\\item 6.70670670670671\n\\item 6.80680680680681\n\\item 6.90690690690691\n\\item 7.00700700700701\n\\item 7.10710710710711\n\\item 7.20720720720721\n\\item 7.30730730730731\n\\item 7.40740740740741\n\\item 7.50750750750751\n\\item 7.60760760760761\n\\item 7.70770770770771\n\\item 7.80780780780781\n\\item 7.90790790790791\n\\item 8.00800800800801\n\\item 8.10810810810811\n\\item 8.20820820820821\n\\item 8.30830830830831\n\\item 8.40840840840841\n\\item 8.50850850850851\n\\item 8.60860860860861\n\\item 8.70870870870871\n\\item 8.80880880880881\n\\item 8.90890890890891\n\\item 9.00900900900901\n\\item 9.10910910910911\n\\item 9.20920920920921\n\\item 9.30930930930931\n\\item 9.40940940940941\n\\item 9.50950950950951\n\\item 9.60960960960961\n\\item 9.70970970970971\n\\item 9.80980980980981\n\\item 9.90990990990991\n\\item 10.01001001001\n\\item 10.1101101101101\n\\item 10.2102102102102\n\\item 10.3103103103103\n\\item 10.4104104104104\n\\item 10.5105105105105\n\\item 10.6106106106106\n\\item 10.7107107107107\n\\item 10.8108108108108\n\\item 10.9109109109109\n\\item 11.011011011011\n\\item 11.1111111111111\n\\item 11.2112112112112\n\\item 11.3113113113113\n\\item 11.4114114114114\n\\item 11.5115115115115\n\\item 11.6116116116116\n\\item 11.7117117117117\n\\item 11.8118118118118\n\\item 11.9119119119119\n\\item 12.012012012012\n\\item 12.1121121121121\n\\item 12.2122122122122\n\\item 12.3123123123123\n\\item 12.4124124124124\n\\item 12.5125125125125\n\\item 12.6126126126126\n\\item 12.7127127127127\n\\item 12.8128128128128\n\\item 12.9129129129129\n\\item 13.013013013013\n\\item 13.1131131131131\n\\item 13.2132132132132\n\\item 13.3133133133133\n\\item 13.4134134134134\n\\item 13.5135135135135\n\\item 13.6136136136136\n\\item 13.7137137137137\n\\item 13.8138138138138\n\\item 13.9139139139139\n\\item 14.014014014014\n\\item 14.1141141141141\n\\item 14.2142142142142\n\\item 14.3143143143143\n\\item 14.4144144144144\n\\item 14.5145145145145\n\\item 14.6146146146146\n\\item 14.7147147147147\n\\item 14.8148148148148\n\\item 14.9149149149149\n\\item 15.015015015015\n\\item 15.1151151151151\n\\item 15.2152152152152\n\\item 15.3153153153153\n\\item 15.4154154154154\n\\item 15.5155155155155\n\\item 15.6156156156156\n\\item 15.7157157157157\n\\item 15.8158158158158\n\\item 15.9159159159159\n\\item 16.016016016016\n\\item 16.1161161161161\n\\item 16.2162162162162\n\\item 16.3163163163163\n\\item 16.4164164164164\n\\item 16.5165165165165\n\\item 16.6166166166166\n\\item 16.7167167167167\n\\item 16.8168168168168\n\\item 16.9169169169169\n\\item 17.017017017017\n\\item 17.1171171171171\n\\item 17.2172172172172\n\\item 17.3173173173173\n\\item 17.4174174174174\n\\item 17.5175175175175\n\\item 17.6176176176176\n\\item 17.7177177177177\n\\item 17.8178178178178\n\\item 17.9179179179179\n\\item 18.018018018018\n\\item 18.1181181181181\n\\item 18.2182182182182\n\\item 18.3183183183183\n\\item 18.4184184184184\n\\item 18.5185185185185\n\\item 18.6186186186186\n\\item 18.7187187187187\n\\item 18.8188188188188\n\\item 18.9189189189189\n\\item 19.019019019019\n\\item 19.1191191191191\n\\item 19.2192192192192\n\\item 19.3193193193193\n\\item 19.4194194194194\n\\item 19.5195195195195\n\\item 19.6196196196196\n\\item 19.7197197197197\n\\item 19.8198198198198\n\\item 19.9199199199199\n\\item ⋯\n\\item 80.0800800800801\n\\item 80.1801801801802\n\\item 80.2802802802803\n\\item 80.3803803803804\n\\item 80.4804804804805\n\\item 80.5805805805806\n\\item 80.6806806806807\n\\item 80.7807807807808\n\\item 80.8808808808809\n\\item 80.980980980981\n\\item 81.0810810810811\n\\item 81.1811811811812\n\\item 81.2812812812813\n\\item 81.3813813813814\n\\item 81.4814814814815\n\\item 81.5815815815816\n\\item 81.6816816816817\n\\item 81.7817817817818\n\\item 81.8818818818819\n\\item 81.981981981982\n\\item 82.0820820820821\n\\item 82.1821821821822\n\\item 82.2822822822823\n\\item 82.3823823823824\n\\item 82.4824824824825\n\\item 82.5825825825826\n\\item 82.6826826826827\n\\item 82.7827827827828\n\\item 82.8828828828829\n\\item 82.982982982983\n\\item 83.0830830830831\n\\item 83.1831831831832\n\\item 83.2832832832833\n\\item 83.3833833833834\n\\item 83.4834834834835\n\\item 83.5835835835836\n\\item 83.6836836836837\n\\item 83.7837837837838\n\\item 83.8838838838839\n\\item 83.983983983984\n\\item 84.0840840840841\n\\item 84.1841841841842\n\\item 84.2842842842843\n\\item 84.3843843843844\n\\item 84.4844844844845\n\\item 84.5845845845846\n\\item 84.6846846846847\n\\item 84.7847847847848\n\\item 84.8848848848849\n\\item 84.984984984985\n\\item 85.0850850850851\n\\item 85.1851851851852\n\\item 85.2852852852853\n\\item 85.3853853853854\n\\item 85.4854854854855\n\\item 85.5855855855856\n\\item 85.6856856856857\n\\item 85.7857857857858\n\\item 85.8858858858859\n\\item 85.985985985986\n\\item 86.0860860860861\n\\item 86.1861861861862\n\\item 86.2862862862863\n\\item 86.3863863863864\n\\item 86.4864864864865\n\\item 86.5865865865866\n\\item 86.6866866866867\n\\item 86.7867867867868\n\\item 86.8868868868869\n\\item 86.986986986987\n\\item 87.0870870870871\n\\item 87.1871871871872\n\\item 87.2872872872873\n\\item 87.3873873873874\n\\item 87.4874874874875\n\\item 87.5875875875876\n\\item 87.6876876876877\n\\item 87.7877877877878\n\\item 87.8878878878879\n\\item 87.987987987988\n\\item 88.0880880880881\n\\item 88.1881881881882\n\\item 88.2882882882883\n\\item 88.3883883883884\n\\item 88.4884884884885\n\\item 88.5885885885886\n\\item 88.6886886886887\n\\item 88.7887887887888\n\\item 88.8888888888889\n\\item 88.988988988989\n\\item 89.0890890890891\n\\item 89.1891891891892\n\\item 89.2892892892893\n\\item 89.3893893893894\n\\item 89.4894894894895\n\\item 89.5895895895896\n\\item 89.6896896896897\n\\item 89.7897897897898\n\\item 89.8898898898899\n\\item 89.98998998999\n\\item 90.0900900900901\n\\item 90.1901901901902\n\\item 90.2902902902903\n\\item 90.3903903903904\n\\item 90.4904904904905\n\\item 90.5905905905906\n\\item 90.6906906906907\n\\item 90.7907907907908\n\\item 90.8908908908909\n\\item 90.990990990991\n\\item 91.0910910910911\n\\item 91.1911911911912\n\\item 91.2912912912913\n\\item 91.3913913913914\n\\item 91.4914914914915\n\\item 91.5915915915916\n\\item 91.6916916916917\n\\item 91.7917917917918\n\\item 91.8918918918919\n\\item 91.991991991992\n\\item 92.0920920920921\n\\item 92.1921921921922\n\\item 92.2922922922923\n\\item 92.3923923923924\n\\item 92.4924924924925\n\\item 92.5925925925926\n\\item 92.6926926926927\n\\item 92.7927927927928\n\\item 92.8928928928929\n\\item 92.992992992993\n\\item 93.0930930930931\n\\item 93.1931931931932\n\\item 93.2932932932933\n\\item 93.3933933933934\n\\item 93.4934934934935\n\\item 93.5935935935936\n\\item 93.6936936936937\n\\item 93.7937937937938\n\\item 93.8938938938939\n\\item 93.993993993994\n\\item 94.0940940940941\n\\item 94.1941941941942\n\\item 94.2942942942943\n\\item 94.3943943943944\n\\item 94.4944944944945\n\\item 94.5945945945946\n\\item 94.6946946946947\n\\item 94.7947947947948\n\\item 94.8948948948949\n\\item 94.994994994995\n\\item 95.0950950950951\n\\item 95.1951951951952\n\\item 95.2952952952953\n\\item 95.3953953953954\n\\item 95.4954954954955\n\\item 95.5955955955956\n\\item 95.6956956956957\n\\item 95.7957957957958\n\\item 95.8958958958959\n\\item 95.995995995996\n\\item 96.0960960960961\n\\item 96.1961961961962\n\\item 96.2962962962963\n\\item 96.3963963963964\n\\item 96.4964964964965\n\\item 96.5965965965966\n\\item 96.6966966966967\n\\item 96.7967967967968\n\\item 96.8968968968969\n\\item 96.996996996997\n\\item 97.0970970970971\n\\item 97.1971971971972\n\\item 97.2972972972973\n\\item 97.3973973973974\n\\item 97.4974974974975\n\\item 97.5975975975976\n\\item 97.6976976976977\n\\item 97.7977977977978\n\\item 97.8978978978979\n\\item 97.997997997998\n\\item 98.0980980980981\n\\item 98.1981981981982\n\\item 98.2982982982983\n\\item 98.3983983983984\n\\item 98.4984984984985\n\\item 98.5985985985986\n\\item 98.6986986986987\n\\item 98.7987987987988\n\\item 98.8988988988989\n\\item 98.998998998999\n\\item 99.0990990990991\n\\item 99.1991991991992\n\\item 99.2992992992993\n\\item 99.3993993993994\n\\item 99.4994994994995\n\\item 99.5995995995996\n\\item 99.6996996996997\n\\item 99.7997997997998\n\\item 99.8998998998999\n\\item 100\n\\end{enumerate*}\n",
            "text/plain": [
              "   [1]   0.0000000   0.1001001   0.2002002   0.3003003   0.4004004   0.5005005\n",
              "   [7]   0.6006006   0.7007007   0.8008008   0.9009009   1.0010010   1.1011011\n",
              "  [13]   1.2012012   1.3013013   1.4014014   1.5015015   1.6016016   1.7017017\n",
              "  [19]   1.8018018   1.9019019   2.0020020   2.1021021   2.2022022   2.3023023\n",
              "  [25]   2.4024024   2.5025025   2.6026026   2.7027027   2.8028028   2.9029029\n",
              "  [31]   3.0030030   3.1031031   3.2032032   3.3033033   3.4034034   3.5035035\n",
              "  [37]   3.6036036   3.7037037   3.8038038   3.9039039   4.0040040   4.1041041\n",
              "  [43]   4.2042042   4.3043043   4.4044044   4.5045045   4.6046046   4.7047047\n",
              "  [49]   4.8048048   4.9049049   5.0050050   5.1051051   5.2052052   5.3053053\n",
              "  [55]   5.4054054   5.5055055   5.6056056   5.7057057   5.8058058   5.9059059\n",
              "  [61]   6.0060060   6.1061061   6.2062062   6.3063063   6.4064064   6.5065065\n",
              "  [67]   6.6066066   6.7067067   6.8068068   6.9069069   7.0070070   7.1071071\n",
              "  [73]   7.2072072   7.3073073   7.4074074   7.5075075   7.6076076   7.7077077\n",
              "  [79]   7.8078078   7.9079079   8.0080080   8.1081081   8.2082082   8.3083083\n",
              "  [85]   8.4084084   8.5085085   8.6086086   8.7087087   8.8088088   8.9089089\n",
              "  [91]   9.0090090   9.1091091   9.2092092   9.3093093   9.4094094   9.5095095\n",
              "  [97]   9.6096096   9.7097097   9.8098098   9.9099099  10.0100100  10.1101101\n",
              " [103]  10.2102102  10.3103103  10.4104104  10.5105105  10.6106106  10.7107107\n",
              " [109]  10.8108108  10.9109109  11.0110110  11.1111111  11.2112112  11.3113113\n",
              " [115]  11.4114114  11.5115115  11.6116116  11.7117117  11.8118118  11.9119119\n",
              " [121]  12.0120120  12.1121121  12.2122122  12.3123123  12.4124124  12.5125125\n",
              " [127]  12.6126126  12.7127127  12.8128128  12.9129129  13.0130130  13.1131131\n",
              " [133]  13.2132132  13.3133133  13.4134134  13.5135135  13.6136136  13.7137137\n",
              " [139]  13.8138138  13.9139139  14.0140140  14.1141141  14.2142142  14.3143143\n",
              " [145]  14.4144144  14.5145145  14.6146146  14.7147147  14.8148148  14.9149149\n",
              " [151]  15.0150150  15.1151151  15.2152152  15.3153153  15.4154154  15.5155155\n",
              " [157]  15.6156156  15.7157157  15.8158158  15.9159159  16.0160160  16.1161161\n",
              " [163]  16.2162162  16.3163163  16.4164164  16.5165165  16.6166166  16.7167167\n",
              " [169]  16.8168168  16.9169169  17.0170170  17.1171171  17.2172172  17.3173173\n",
              " [175]  17.4174174  17.5175175  17.6176176  17.7177177  17.8178178  17.9179179\n",
              " [181]  18.0180180  18.1181181  18.2182182  18.3183183  18.4184184  18.5185185\n",
              " [187]  18.6186186  18.7187187  18.8188188  18.9189189  19.0190190  19.1191191\n",
              " [193]  19.2192192  19.3193193  19.4194194  19.5195195  19.6196196  19.7197197\n",
              " [199]  19.8198198  19.9199199  20.0200200  20.1201201  20.2202202  20.3203203\n",
              " [205]  20.4204204  20.5205205  20.6206206  20.7207207  20.8208208  20.9209209\n",
              " [211]  21.0210210  21.1211211  21.2212212  21.3213213  21.4214214  21.5215215\n",
              " [217]  21.6216216  21.7217217  21.8218218  21.9219219  22.0220220  22.1221221\n",
              " [223]  22.2222222  22.3223223  22.4224224  22.5225225  22.6226226  22.7227227\n",
              " [229]  22.8228228  22.9229229  23.0230230  23.1231231  23.2232232  23.3233233\n",
              " [235]  23.4234234  23.5235235  23.6236236  23.7237237  23.8238238  23.9239239\n",
              " [241]  24.0240240  24.1241241  24.2242242  24.3243243  24.4244244  24.5245245\n",
              " [247]  24.6246246  24.7247247  24.8248248  24.9249249  25.0250250  25.1251251\n",
              " [253]  25.2252252  25.3253253  25.4254254  25.5255255  25.6256256  25.7257257\n",
              " [259]  25.8258258  25.9259259  26.0260260  26.1261261  26.2262262  26.3263263\n",
              " [265]  26.4264264  26.5265265  26.6266266  26.7267267  26.8268268  26.9269269\n",
              " [271]  27.0270270  27.1271271  27.2272272  27.3273273  27.4274274  27.5275275\n",
              " [277]  27.6276276  27.7277277  27.8278278  27.9279279  28.0280280  28.1281281\n",
              " [283]  28.2282282  28.3283283  28.4284284  28.5285285  28.6286286  28.7287287\n",
              " [289]  28.8288288  28.9289289  29.0290290  29.1291291  29.2292292  29.3293293\n",
              " [295]  29.4294294  29.5295295  29.6296296  29.7297297  29.8298298  29.9299299\n",
              " [301]  30.0300300  30.1301301  30.2302302  30.3303303  30.4304304  30.5305305\n",
              " [307]  30.6306306  30.7307307  30.8308308  30.9309309  31.0310310  31.1311311\n",
              " [313]  31.2312312  31.3313313  31.4314314  31.5315315  31.6316316  31.7317317\n",
              " [319]  31.8318318  31.9319319  32.0320320  32.1321321  32.2322322  32.3323323\n",
              " [325]  32.4324324  32.5325325  32.6326326  32.7327327  32.8328328  32.9329329\n",
              " [331]  33.0330330  33.1331331  33.2332332  33.3333333  33.4334334  33.5335335\n",
              " [337]  33.6336336  33.7337337  33.8338338  33.9339339  34.0340340  34.1341341\n",
              " [343]  34.2342342  34.3343343  34.4344344  34.5345345  34.6346346  34.7347347\n",
              " [349]  34.8348348  34.9349349  35.0350350  35.1351351  35.2352352  35.3353353\n",
              " [355]  35.4354354  35.5355355  35.6356356  35.7357357  35.8358358  35.9359359\n",
              " [361]  36.0360360  36.1361361  36.2362362  36.3363363  36.4364364  36.5365365\n",
              " [367]  36.6366366  36.7367367  36.8368368  36.9369369  37.0370370  37.1371371\n",
              " [373]  37.2372372  37.3373373  37.4374374  37.5375375  37.6376376  37.7377377\n",
              " [379]  37.8378378  37.9379379  38.0380380  38.1381381  38.2382382  38.3383383\n",
              " [385]  38.4384384  38.5385385  38.6386386  38.7387387  38.8388388  38.9389389\n",
              " [391]  39.0390390  39.1391391  39.2392392  39.3393393  39.4394394  39.5395395\n",
              " [397]  39.6396396  39.7397397  39.8398398  39.9399399  40.0400400  40.1401401\n",
              " [403]  40.2402402  40.3403403  40.4404404  40.5405405  40.6406406  40.7407407\n",
              " [409]  40.8408408  40.9409409  41.0410410  41.1411411  41.2412412  41.3413413\n",
              " [415]  41.4414414  41.5415415  41.6416416  41.7417417  41.8418418  41.9419419\n",
              " [421]  42.0420420  42.1421421  42.2422422  42.3423423  42.4424424  42.5425425\n",
              " [427]  42.6426426  42.7427427  42.8428428  42.9429429  43.0430430  43.1431431\n",
              " [433]  43.2432432  43.3433433  43.4434434  43.5435435  43.6436436  43.7437437\n",
              " [439]  43.8438438  43.9439439  44.0440440  44.1441441  44.2442442  44.3443443\n",
              " [445]  44.4444444  44.5445445  44.6446446  44.7447447  44.8448448  44.9449449\n",
              " [451]  45.0450450  45.1451451  45.2452452  45.3453453  45.4454454  45.5455455\n",
              " [457]  45.6456456  45.7457457  45.8458458  45.9459459  46.0460460  46.1461461\n",
              " [463]  46.2462462  46.3463463  46.4464464  46.5465465  46.6466466  46.7467467\n",
              " [469]  46.8468468  46.9469469  47.0470470  47.1471471  47.2472472  47.3473473\n",
              " [475]  47.4474474  47.5475475  47.6476476  47.7477477  47.8478478  47.9479479\n",
              " [481]  48.0480480  48.1481481  48.2482482  48.3483483  48.4484484  48.5485485\n",
              " [487]  48.6486486  48.7487487  48.8488488  48.9489489  49.0490490  49.1491491\n",
              " [493]  49.2492492  49.3493493  49.4494494  49.5495495  49.6496496  49.7497497\n",
              " [499]  49.8498498  49.9499499  50.0500501  50.1501502  50.2502503  50.3503504\n",
              " [505]  50.4504505  50.5505506  50.6506507  50.7507508  50.8508509  50.9509510\n",
              " [511]  51.0510511  51.1511512  51.2512513  51.3513514  51.4514515  51.5515516\n",
              " [517]  51.6516517  51.7517518  51.8518519  51.9519520  52.0520521  52.1521522\n",
              " [523]  52.2522523  52.3523524  52.4524525  52.5525526  52.6526527  52.7527528\n",
              " [529]  52.8528529  52.9529530  53.0530531  53.1531532  53.2532533  53.3533534\n",
              " [535]  53.4534535  53.5535536  53.6536537  53.7537538  53.8538539  53.9539540\n",
              " [541]  54.0540541  54.1541542  54.2542543  54.3543544  54.4544545  54.5545546\n",
              " [547]  54.6546547  54.7547548  54.8548549  54.9549550  55.0550551  55.1551552\n",
              " [553]  55.2552553  55.3553554  55.4554555  55.5555556  55.6556557  55.7557558\n",
              " [559]  55.8558559  55.9559560  56.0560561  56.1561562  56.2562563  56.3563564\n",
              " [565]  56.4564565  56.5565566  56.6566567  56.7567568  56.8568569  56.9569570\n",
              " [571]  57.0570571  57.1571572  57.2572573  57.3573574  57.4574575  57.5575576\n",
              " [577]  57.6576577  57.7577578  57.8578579  57.9579580  58.0580581  58.1581582\n",
              " [583]  58.2582583  58.3583584  58.4584585  58.5585586  58.6586587  58.7587588\n",
              " [589]  58.8588589  58.9589590  59.0590591  59.1591592  59.2592593  59.3593594\n",
              " [595]  59.4594595  59.5595596  59.6596597  59.7597598  59.8598599  59.9599600\n",
              " [601]  60.0600601  60.1601602  60.2602603  60.3603604  60.4604605  60.5605606\n",
              " [607]  60.6606607  60.7607608  60.8608609  60.9609610  61.0610611  61.1611612\n",
              " [613]  61.2612613  61.3613614  61.4614615  61.5615616  61.6616617  61.7617618\n",
              " [619]  61.8618619  61.9619620  62.0620621  62.1621622  62.2622623  62.3623624\n",
              " [625]  62.4624625  62.5625626  62.6626627  62.7627628  62.8628629  62.9629630\n",
              " [631]  63.0630631  63.1631632  63.2632633  63.3633634  63.4634635  63.5635636\n",
              " [637]  63.6636637  63.7637638  63.8638639  63.9639640  64.0640641  64.1641642\n",
              " [643]  64.2642643  64.3643644  64.4644645  64.5645646  64.6646647  64.7647648\n",
              " [649]  64.8648649  64.9649650  65.0650651  65.1651652  65.2652653  65.3653654\n",
              " [655]  65.4654655  65.5655656  65.6656657  65.7657658  65.8658659  65.9659660\n",
              " [661]  66.0660661  66.1661662  66.2662663  66.3663664  66.4664665  66.5665666\n",
              " [667]  66.6666667  66.7667668  66.8668669  66.9669670  67.0670671  67.1671672\n",
              " [673]  67.2672673  67.3673674  67.4674675  67.5675676  67.6676677  67.7677678\n",
              " [679]  67.8678679  67.9679680  68.0680681  68.1681682  68.2682683  68.3683684\n",
              " [685]  68.4684685  68.5685686  68.6686687  68.7687688  68.8688689  68.9689690\n",
              " [691]  69.0690691  69.1691692  69.2692693  69.3693694  69.4694695  69.5695696\n",
              " [697]  69.6696697  69.7697698  69.8698699  69.9699700  70.0700701  70.1701702\n",
              " [703]  70.2702703  70.3703704  70.4704705  70.5705706  70.6706707  70.7707708\n",
              " [709]  70.8708709  70.9709710  71.0710711  71.1711712  71.2712713  71.3713714\n",
              " [715]  71.4714715  71.5715716  71.6716717  71.7717718  71.8718719  71.9719720\n",
              " [721]  72.0720721  72.1721722  72.2722723  72.3723724  72.4724725  72.5725726\n",
              " [727]  72.6726727  72.7727728  72.8728729  72.9729730  73.0730731  73.1731732\n",
              " [733]  73.2732733  73.3733734  73.4734735  73.5735736  73.6736737  73.7737738\n",
              " [739]  73.8738739  73.9739740  74.0740741  74.1741742  74.2742743  74.3743744\n",
              " [745]  74.4744745  74.5745746  74.6746747  74.7747748  74.8748749  74.9749750\n",
              " [751]  75.0750751  75.1751752  75.2752753  75.3753754  75.4754755  75.5755756\n",
              " [757]  75.6756757  75.7757758  75.8758759  75.9759760  76.0760761  76.1761762\n",
              " [763]  76.2762763  76.3763764  76.4764765  76.5765766  76.6766767  76.7767768\n",
              " [769]  76.8768769  76.9769770  77.0770771  77.1771772  77.2772773  77.3773774\n",
              " [775]  77.4774775  77.5775776  77.6776777  77.7777778  77.8778779  77.9779780\n",
              " [781]  78.0780781  78.1781782  78.2782783  78.3783784  78.4784785  78.5785786\n",
              " [787]  78.6786787  78.7787788  78.8788789  78.9789790  79.0790791  79.1791792\n",
              " [793]  79.2792793  79.3793794  79.4794795  79.5795796  79.6796797  79.7797798\n",
              " [799]  79.8798799  79.9799800  80.0800801  80.1801802  80.2802803  80.3803804\n",
              " [805]  80.4804805  80.5805806  80.6806807  80.7807808  80.8808809  80.9809810\n",
              " [811]  81.0810811  81.1811812  81.2812813  81.3813814  81.4814815  81.5815816\n",
              " [817]  81.6816817  81.7817818  81.8818819  81.9819820  82.0820821  82.1821822\n",
              " [823]  82.2822823  82.3823824  82.4824825  82.5825826  82.6826827  82.7827828\n",
              " [829]  82.8828829  82.9829830  83.0830831  83.1831832  83.2832833  83.3833834\n",
              " [835]  83.4834835  83.5835836  83.6836837  83.7837838  83.8838839  83.9839840\n",
              " [841]  84.0840841  84.1841842  84.2842843  84.3843844  84.4844845  84.5845846\n",
              " [847]  84.6846847  84.7847848  84.8848849  84.9849850  85.0850851  85.1851852\n",
              " [853]  85.2852853  85.3853854  85.4854855  85.5855856  85.6856857  85.7857858\n",
              " [859]  85.8858859  85.9859860  86.0860861  86.1861862  86.2862863  86.3863864\n",
              " [865]  86.4864865  86.5865866  86.6866867  86.7867868  86.8868869  86.9869870\n",
              " [871]  87.0870871  87.1871872  87.2872873  87.3873874  87.4874875  87.5875876\n",
              " [877]  87.6876877  87.7877878  87.8878879  87.9879880  88.0880881  88.1881882\n",
              " [883]  88.2882883  88.3883884  88.4884885  88.5885886  88.6886887  88.7887888\n",
              " [889]  88.8888889  88.9889890  89.0890891  89.1891892  89.2892893  89.3893894\n",
              " [895]  89.4894895  89.5895896  89.6896897  89.7897898  89.8898899  89.9899900\n",
              " [901]  90.0900901  90.1901902  90.2902903  90.3903904  90.4904905  90.5905906\n",
              " [907]  90.6906907  90.7907908  90.8908909  90.9909910  91.0910911  91.1911912\n",
              " [913]  91.2912913  91.3913914  91.4914915  91.5915916  91.6916917  91.7917918\n",
              " [919]  91.8918919  91.9919920  92.0920921  92.1921922  92.2922923  92.3923924\n",
              " [925]  92.4924925  92.5925926  92.6926927  92.7927928  92.8928929  92.9929930\n",
              " [931]  93.0930931  93.1931932  93.2932933  93.3933934  93.4934935  93.5935936\n",
              " [937]  93.6936937  93.7937938  93.8938939  93.9939940  94.0940941  94.1941942\n",
              " [943]  94.2942943  94.3943944  94.4944945  94.5945946  94.6946947  94.7947948\n",
              " [949]  94.8948949  94.9949950  95.0950951  95.1951952  95.2952953  95.3953954\n",
              " [955]  95.4954955  95.5955956  95.6956957  95.7957958  95.8958959  95.9959960\n",
              " [961]  96.0960961  96.1961962  96.2962963  96.3963964  96.4964965  96.5965966\n",
              " [967]  96.6966967  96.7967968  96.8968969  96.9969970  97.0970971  97.1971972\n",
              " [973]  97.2972973  97.3973974  97.4974975  97.5975976  97.6976977  97.7977978\n",
              " [979]  97.8978979  97.9979980  98.0980981  98.1981982  98.2982983  98.3983984\n",
              " [985]  98.4984985  98.5985986  98.6986987  98.7987988  98.8988989  98.9989990\n",
              " [991]  99.0990991  99.1991992  99.2992993  99.3993994  99.4994995  99.5995996\n",
              " [997]  99.6996997  99.7997998  99.8998999 100.0000000"
            ]
          },
          "metadata": {}
        },
        {
          "output_type": "display_data",
          "data": {
            "text/html": [
              "<style>\n",
              ".list-inline {list-style: none; margin:0; padding: 0}\n",
              ".list-inline>li {display: inline-block}\n",
              ".list-inline>li:not(:last-child)::after {content: \"\\00b7\"; padding: 0 .5ex}\n",
              "</style>\n",
              "<ol class=list-inline><li>0</li><li>0</li><li>0</li><li>0</li><li>0</li><li>0</li><li>0</li><li>0</li><li>0</li><li>0</li></ol>\n"
            ],
            "text/markdown": "1. 0\n2. 0\n3. 0\n4. 0\n5. 0\n6. 0\n7. 0\n8. 0\n9. 0\n10. 0\n\n\n",
            "text/latex": "\\begin{enumerate*}\n\\item 0\n\\item 0\n\\item 0\n\\item 0\n\\item 0\n\\item 0\n\\item 0\n\\item 0\n\\item 0\n\\item 0\n\\end{enumerate*}\n",
            "text/plain": [
              " [1] 0 0 0 0 0 0 0 0 0 0"
            ]
          },
          "metadata": {}
        },
        {
          "output_type": "display_data",
          "data": {
            "text/html": [
              "<style>\n",
              ".list-inline {list-style: none; margin:0; padding: 0}\n",
              ".list-inline>li {display: inline-block}\n",
              ".list-inline>li:not(:last-child)::after {content: \"\\00b7\"; padding: 0 .5ex}\n",
              "</style>\n",
              "<ol class=list-inline><li>0</li><li>0</li><li>0</li><li>0</li><li>0</li><li>0</li><li>0</li><li>0</li><li>0</li><li>0</li></ol>\n"
            ],
            "text/markdown": "1. 0\n2. 0\n3. 0\n4. 0\n5. 0\n6. 0\n7. 0\n8. 0\n9. 0\n10. 0\n\n\n",
            "text/latex": "\\begin{enumerate*}\n\\item 0\n\\item 0\n\\item 0\n\\item 0\n\\item 0\n\\item 0\n\\item 0\n\\item 0\n\\item 0\n\\item 0\n\\end{enumerate*}\n",
            "text/plain": [
              " [1] 0 0 0 0 0 0 0 0 0 0"
            ]
          },
          "metadata": {}
        },
        {
          "output_type": "display_data",
          "data": {
            "text/html": [
              "<style>\n",
              ".list-inline {list-style: none; margin:0; padding: 0}\n",
              ".list-inline>li {display: inline-block}\n",
              ".list-inline>li:not(:last-child)::after {content: \"\\00b7\"; padding: 0 .5ex}\n",
              "</style>\n",
              "<ol class=list-inline><li>'A'</li><li>'B'</li><li>'C'</li><li>'A'</li><li>'B'</li><li>'C'</li><li>'A'</li><li>'B'</li><li>'C'</li></ol>\n"
            ],
            "text/markdown": "1. 'A'\n2. 'B'\n3. 'C'\n4. 'A'\n5. 'B'\n6. 'C'\n7. 'A'\n8. 'B'\n9. 'C'\n\n\n",
            "text/latex": "\\begin{enumerate*}\n\\item 'A'\n\\item 'B'\n\\item 'C'\n\\item 'A'\n\\item 'B'\n\\item 'C'\n\\item 'A'\n\\item 'B'\n\\item 'C'\n\\end{enumerate*}\n",
            "text/plain": [
              "[1] \"A\" \"B\" \"C\" \"A\" \"B\" \"C\" \"A\" \"B\" \"C\""
            ]
          },
          "metadata": {}
        },
        {
          "output_type": "display_data",
          "data": {
            "text/html": [
              "<style>\n",
              ".list-inline {list-style: none; margin:0; padding: 0}\n",
              ".list-inline>li {display: inline-block}\n",
              ".list-inline>li:not(:last-child)::after {content: \"\\00b7\"; padding: 0 .5ex}\n",
              "</style>\n",
              "<ol class=list-inline><li>'A'</li><li>'A'</li><li>'A'</li><li>'B'</li><li>'B'</li><li>'B'</li><li>'C'</li><li>'C'</li><li>'C'</li></ol>\n"
            ],
            "text/markdown": "1. 'A'\n2. 'A'\n3. 'A'\n4. 'B'\n5. 'B'\n6. 'B'\n7. 'C'\n8. 'C'\n9. 'C'\n\n\n",
            "text/latex": "\\begin{enumerate*}\n\\item 'A'\n\\item 'A'\n\\item 'A'\n\\item 'B'\n\\item 'B'\n\\item 'B'\n\\item 'C'\n\\item 'C'\n\\item 'C'\n\\end{enumerate*}\n",
            "text/plain": [
              "[1] \"A\" \"A\" \"A\" \"B\" \"B\" \"B\" \"C\" \"C\" \"C\""
            ]
          },
          "metadata": {}
        },
        {
          "output_type": "display_data",
          "data": {
            "text/html": [
              "<style>\n",
              ".list-inline {list-style: none; margin:0; padding: 0}\n",
              ".list-inline>li {display: inline-block}\n",
              ".list-inline>li:not(:last-child)::after {content: \"\\00b7\"; padding: 0 .5ex}\n",
              "</style>\n",
              "<ol class=list-inline><li>'A'</li><li>'A'</li><li>'A'</li><li>'B'</li><li>'B'</li><li>'B'</li><li>'C'</li><li>'C'</li><li>'C'</li></ol>\n"
            ],
            "text/markdown": "1. 'A'\n2. 'A'\n3. 'A'\n4. 'B'\n5. 'B'\n6. 'B'\n7. 'C'\n8. 'C'\n9. 'C'\n\n\n",
            "text/latex": "\\begin{enumerate*}\n\\item 'A'\n\\item 'A'\n\\item 'A'\n\\item 'B'\n\\item 'B'\n\\item 'B'\n\\item 'C'\n\\item 'C'\n\\item 'C'\n\\end{enumerate*}\n",
            "text/plain": [
              "[1] \"A\" \"A\" \"A\" \"B\" \"B\" \"B\" \"C\" \"C\" \"C\""
            ]
          },
          "metadata": {}
        }
      ]
    },
    {
      "cell_type": "code",
      "source": [
        "#Matrices\n",
        "#matrix()\n",
        "\n",
        "x <- c(5,4,3,6,1,7)\n",
        "X <- matrix(x,ncol=2,nrow = 3, byrow=T)\n",
        "matrix(x,ncol=2,nrow = 3)\n",
        "#by default dia akan fill up column\n",
        "\n",
        "X[3,2]\n",
        "X[,2]\n",
        "X[3,]\n",
        "\n",
        "X[c(1,3,2),2]\n",
        "X[c(1,3,2),]\n",
        "X[c(1,3),]\n",
        "\n",
        "#Matrix Operations\n",
        "X*3\n",
        "\n",
        "x1 <- c(5,4,3)\n",
        "x2 <- c(6,1,7)\n",
        "cbind(x1,x2)\n",
        "rbind(x1,x2)"
      ],
      "metadata": {
        "colab": {
          "base_uri": "https://localhost:8080/",
          "height": 1000
        },
        "id": "nBLBI1apavny",
        "outputId": "3efe4f37-ce62-43ce-d0e1-c6cb8fe1b643"
      },
      "execution_count": 13,
      "outputs": [
        {
          "output_type": "display_data",
          "data": {
            "text/html": [
              "<table class=\"dataframe\">\n",
              "<caption>A matrix: 3 × 2 of type dbl</caption>\n",
              "<tbody>\n",
              "\t<tr><td>5</td><td>6</td></tr>\n",
              "\t<tr><td>4</td><td>1</td></tr>\n",
              "\t<tr><td>3</td><td>7</td></tr>\n",
              "</tbody>\n",
              "</table>\n"
            ],
            "text/markdown": "\nA matrix: 3 × 2 of type dbl\n\n| 5 | 6 |\n| 4 | 1 |\n| 3 | 7 |\n\n",
            "text/latex": "A matrix: 3 × 2 of type dbl\n\\begin{tabular}{ll}\n\t 5 & 6\\\\\n\t 4 & 1\\\\\n\t 3 & 7\\\\\n\\end{tabular}\n",
            "text/plain": [
              "     [,1] [,2]\n",
              "[1,] 5    6   \n",
              "[2,] 4    1   \n",
              "[3,] 3    7   "
            ]
          },
          "metadata": {}
        },
        {
          "output_type": "display_data",
          "data": {
            "text/html": [
              "7"
            ],
            "text/markdown": "7",
            "text/latex": "7",
            "text/plain": [
              "[1] 7"
            ]
          },
          "metadata": {}
        },
        {
          "output_type": "display_data",
          "data": {
            "text/html": [
              "<style>\n",
              ".list-inline {list-style: none; margin:0; padding: 0}\n",
              ".list-inline>li {display: inline-block}\n",
              ".list-inline>li:not(:last-child)::after {content: \"\\00b7\"; padding: 0 .5ex}\n",
              "</style>\n",
              "<ol class=list-inline><li>4</li><li>6</li><li>7</li></ol>\n"
            ],
            "text/markdown": "1. 4\n2. 6\n3. 7\n\n\n",
            "text/latex": "\\begin{enumerate*}\n\\item 4\n\\item 6\n\\item 7\n\\end{enumerate*}\n",
            "text/plain": [
              "[1] 4 6 7"
            ]
          },
          "metadata": {}
        },
        {
          "output_type": "display_data",
          "data": {
            "text/html": [
              "<style>\n",
              ".list-inline {list-style: none; margin:0; padding: 0}\n",
              ".list-inline>li {display: inline-block}\n",
              ".list-inline>li:not(:last-child)::after {content: \"\\00b7\"; padding: 0 .5ex}\n",
              "</style>\n",
              "<ol class=list-inline><li>1</li><li>7</li></ol>\n"
            ],
            "text/markdown": "1. 1\n2. 7\n\n\n",
            "text/latex": "\\begin{enumerate*}\n\\item 1\n\\item 7\n\\end{enumerate*}\n",
            "text/plain": [
              "[1] 1 7"
            ]
          },
          "metadata": {}
        },
        {
          "output_type": "display_data",
          "data": {
            "text/html": [
              "<style>\n",
              ".list-inline {list-style: none; margin:0; padding: 0}\n",
              ".list-inline>li {display: inline-block}\n",
              ".list-inline>li:not(:last-child)::after {content: \"\\00b7\"; padding: 0 .5ex}\n",
              "</style>\n",
              "<ol class=list-inline><li>4</li><li>7</li><li>6</li></ol>\n"
            ],
            "text/markdown": "1. 4\n2. 7\n3. 6\n\n\n",
            "text/latex": "\\begin{enumerate*}\n\\item 4\n\\item 7\n\\item 6\n\\end{enumerate*}\n",
            "text/plain": [
              "[1] 4 7 6"
            ]
          },
          "metadata": {}
        },
        {
          "output_type": "display_data",
          "data": {
            "text/html": [
              "<table class=\"dataframe\">\n",
              "<caption>A matrix: 3 × 2 of type dbl</caption>\n",
              "<tbody>\n",
              "\t<tr><td>5</td><td>4</td></tr>\n",
              "\t<tr><td>1</td><td>7</td></tr>\n",
              "\t<tr><td>3</td><td>6</td></tr>\n",
              "</tbody>\n",
              "</table>\n"
            ],
            "text/markdown": "\nA matrix: 3 × 2 of type dbl\n\n| 5 | 4 |\n| 1 | 7 |\n| 3 | 6 |\n\n",
            "text/latex": "A matrix: 3 × 2 of type dbl\n\\begin{tabular}{ll}\n\t 5 & 4\\\\\n\t 1 & 7\\\\\n\t 3 & 6\\\\\n\\end{tabular}\n",
            "text/plain": [
              "     [,1] [,2]\n",
              "[1,] 5    4   \n",
              "[2,] 1    7   \n",
              "[3,] 3    6   "
            ]
          },
          "metadata": {}
        },
        {
          "output_type": "display_data",
          "data": {
            "text/html": [
              "<table class=\"dataframe\">\n",
              "<caption>A matrix: 2 × 2 of type dbl</caption>\n",
              "<tbody>\n",
              "\t<tr><td>5</td><td>4</td></tr>\n",
              "\t<tr><td>1</td><td>7</td></tr>\n",
              "</tbody>\n",
              "</table>\n"
            ],
            "text/markdown": "\nA matrix: 2 × 2 of type dbl\n\n| 5 | 4 |\n| 1 | 7 |\n\n",
            "text/latex": "A matrix: 2 × 2 of type dbl\n\\begin{tabular}{ll}\n\t 5 & 4\\\\\n\t 1 & 7\\\\\n\\end{tabular}\n",
            "text/plain": [
              "     [,1] [,2]\n",
              "[1,] 5    4   \n",
              "[2,] 1    7   "
            ]
          },
          "metadata": {}
        },
        {
          "output_type": "display_data",
          "data": {
            "text/html": [
              "<table class=\"dataframe\">\n",
              "<caption>A matrix: 3 × 2 of type dbl</caption>\n",
              "<tbody>\n",
              "\t<tr><td>15</td><td>12</td></tr>\n",
              "\t<tr><td> 9</td><td>18</td></tr>\n",
              "\t<tr><td> 3</td><td>21</td></tr>\n",
              "</tbody>\n",
              "</table>\n"
            ],
            "text/markdown": "\nA matrix: 3 × 2 of type dbl\n\n| 15 | 12 |\n|  9 | 18 |\n|  3 | 21 |\n\n",
            "text/latex": "A matrix: 3 × 2 of type dbl\n\\begin{tabular}{ll}\n\t 15 & 12\\\\\n\t  9 & 18\\\\\n\t  3 & 21\\\\\n\\end{tabular}\n",
            "text/plain": [
              "     [,1] [,2]\n",
              "[1,] 15   12  \n",
              "[2,]  9   18  \n",
              "[3,]  3   21  "
            ]
          },
          "metadata": {}
        },
        {
          "output_type": "display_data",
          "data": {
            "text/html": [
              "<table class=\"dataframe\">\n",
              "<caption>A matrix: 3 × 2 of type dbl</caption>\n",
              "<thead>\n",
              "\t<tr><th scope=col>x1</th><th scope=col>x2</th></tr>\n",
              "</thead>\n",
              "<tbody>\n",
              "\t<tr><td>5</td><td>6</td></tr>\n",
              "\t<tr><td>4</td><td>1</td></tr>\n",
              "\t<tr><td>3</td><td>7</td></tr>\n",
              "</tbody>\n",
              "</table>\n"
            ],
            "text/markdown": "\nA matrix: 3 × 2 of type dbl\n\n| x1 | x2 |\n|---|---|\n| 5 | 6 |\n| 4 | 1 |\n| 3 | 7 |\n\n",
            "text/latex": "A matrix: 3 × 2 of type dbl\n\\begin{tabular}{ll}\n x1 & x2\\\\\n\\hline\n\t 5 & 6\\\\\n\t 4 & 1\\\\\n\t 3 & 7\\\\\n\\end{tabular}\n",
            "text/plain": [
              "     x1 x2\n",
              "[1,] 5  6 \n",
              "[2,] 4  1 \n",
              "[3,] 3  7 "
            ]
          },
          "metadata": {}
        },
        {
          "output_type": "display_data",
          "data": {
            "text/html": [
              "<table class=\"dataframe\">\n",
              "<caption>A matrix: 2 × 3 of type dbl</caption>\n",
              "<tbody>\n",
              "\t<tr><th scope=row>x1</th><td>5</td><td>4</td><td>3</td></tr>\n",
              "\t<tr><th scope=row>x2</th><td>6</td><td>1</td><td>7</td></tr>\n",
              "</tbody>\n",
              "</table>\n"
            ],
            "text/markdown": "\nA matrix: 2 × 3 of type dbl\n\n| x1 | 5 | 4 | 3 |\n| x2 | 6 | 1 | 7 |\n\n",
            "text/latex": "A matrix: 2 × 3 of type dbl\n\\begin{tabular}{r|lll}\n\tx1 & 5 & 4 & 3\\\\\n\tx2 & 6 & 1 & 7\\\\\n\\end{tabular}\n",
            "text/plain": [
              "   [,1] [,2] [,3]\n",
              "x1 5    4    3   \n",
              "x2 6    1    7   "
            ]
          },
          "metadata": {}
        }
      ]
    },
    {
      "cell_type": "code",
      "source": [
        "#modify an element of a vector/matrix\n",
        "\n",
        "x <- c(1,10,5,4,1,1)\n",
        "X <- matrix(x,ncol = 3)\n",
        "X\n",
        "X[2,1]\n",
        "X[,2]\n",
        "\n",
        "y <- c(3,5,15,2)\n",
        "Y <- matrix(y,nrow=2)\n",
        "solve(Y)\n",
        "t(X)%*%Y\n"
      ],
      "metadata": {
        "colab": {
          "base_uri": "https://localhost:8080/",
          "height": 393
        },
        "id": "jiST7gsIaz_K",
        "outputId": "c6ac20b5-ab39-4411-9d48-223b4b5a9df9"
      },
      "execution_count": 14,
      "outputs": [
        {
          "output_type": "display_data",
          "data": {
            "text/html": [
              "<table class=\"dataframe\">\n",
              "<caption>A matrix: 2 × 3 of type dbl</caption>\n",
              "<tbody>\n",
              "\t<tr><td> 1</td><td>5</td><td>1</td></tr>\n",
              "\t<tr><td>10</td><td>4</td><td>1</td></tr>\n",
              "</tbody>\n",
              "</table>\n"
            ],
            "text/markdown": "\nA matrix: 2 × 3 of type dbl\n\n|  1 | 5 | 1 |\n| 10 | 4 | 1 |\n\n",
            "text/latex": "A matrix: 2 × 3 of type dbl\n\\begin{tabular}{lll}\n\t  1 & 5 & 1\\\\\n\t 10 & 4 & 1\\\\\n\\end{tabular}\n",
            "text/plain": [
              "     [,1] [,2] [,3]\n",
              "[1,]  1   5    1   \n",
              "[2,] 10   4    1   "
            ]
          },
          "metadata": {}
        },
        {
          "output_type": "display_data",
          "data": {
            "text/html": [
              "10"
            ],
            "text/markdown": "10",
            "text/latex": "10",
            "text/plain": [
              "[1] 10"
            ]
          },
          "metadata": {}
        },
        {
          "output_type": "display_data",
          "data": {
            "text/html": [
              "<style>\n",
              ".list-inline {list-style: none; margin:0; padding: 0}\n",
              ".list-inline>li {display: inline-block}\n",
              ".list-inline>li:not(:last-child)::after {content: \"\\00b7\"; padding: 0 .5ex}\n",
              "</style>\n",
              "<ol class=list-inline><li>5</li><li>4</li></ol>\n"
            ],
            "text/markdown": "1. 5\n2. 4\n\n\n",
            "text/latex": "\\begin{enumerate*}\n\\item 5\n\\item 4\n\\end{enumerate*}\n",
            "text/plain": [
              "[1] 5 4"
            ]
          },
          "metadata": {}
        },
        {
          "output_type": "display_data",
          "data": {
            "text/html": [
              "<table class=\"dataframe\">\n",
              "<caption>A matrix: 2 × 2 of type dbl</caption>\n",
              "<tbody>\n",
              "\t<tr><td>-0.02898551</td><td> 0.21739130</td></tr>\n",
              "\t<tr><td> 0.07246377</td><td>-0.04347826</td></tr>\n",
              "</tbody>\n",
              "</table>\n"
            ],
            "text/markdown": "\nA matrix: 2 × 2 of type dbl\n\n| -0.02898551 |  0.21739130 |\n|  0.07246377 | -0.04347826 |\n\n",
            "text/latex": "A matrix: 2 × 2 of type dbl\n\\begin{tabular}{ll}\n\t -0.02898551 &  0.21739130\\\\\n\t  0.07246377 & -0.04347826\\\\\n\\end{tabular}\n",
            "text/plain": [
              "     [,1]        [,2]       \n",
              "[1,] -0.02898551  0.21739130\n",
              "[2,]  0.07246377 -0.04347826"
            ]
          },
          "metadata": {}
        },
        {
          "output_type": "display_data",
          "data": {
            "text/html": [
              "<table class=\"dataframe\">\n",
              "<caption>A matrix: 3 × 2 of type dbl</caption>\n",
              "<tbody>\n",
              "\t<tr><td>53</td><td>35</td></tr>\n",
              "\t<tr><td>35</td><td>83</td></tr>\n",
              "\t<tr><td> 8</td><td>17</td></tr>\n",
              "</tbody>\n",
              "</table>\n"
            ],
            "text/markdown": "\nA matrix: 3 × 2 of type dbl\n\n| 53 | 35 |\n| 35 | 83 |\n|  8 | 17 |\n\n",
            "text/latex": "A matrix: 3 × 2 of type dbl\n\\begin{tabular}{ll}\n\t 53 & 35\\\\\n\t 35 & 83\\\\\n\t  8 & 17\\\\\n\\end{tabular}\n",
            "text/plain": [
              "     [,1] [,2]\n",
              "[1,] 53   35  \n",
              "[2,] 35   83  \n",
              "[3,]  8   17  "
            ]
          },
          "metadata": {}
        }
      ]
    },
    {
      "cell_type": "code",
      "source": [
        "a <- c(21,2,3,14)\n",
        "A <- matrix(a, nrow=2)\n",
        "A\n",
        "#Dr Atiqah\n",
        "#a1<- c(21,2)\n",
        "#a2<- c(3,14)\n",
        "#A<-cbind(a1,a2)\n",
        "b <- c(12, 45, 5 ,1)\n",
        "B <- matrix(b, nrow=2)\n",
        "B\n"
      ],
      "metadata": {
        "colab": {
          "base_uri": "https://localhost:8080/",
          "height": 264
        },
        "id": "kj1Adp1Sa-Tq",
        "outputId": "f62b8bb2-ee71-48d0-9e9c-989e34d7c094"
      },
      "execution_count": 15,
      "outputs": [
        {
          "output_type": "display_data",
          "data": {
            "text/html": [
              "<table class=\"dataframe\">\n",
              "<caption>A matrix: 2 × 2 of type dbl</caption>\n",
              "<tbody>\n",
              "\t<tr><td>21</td><td> 3</td></tr>\n",
              "\t<tr><td> 2</td><td>14</td></tr>\n",
              "</tbody>\n",
              "</table>\n"
            ],
            "text/markdown": "\nA matrix: 2 × 2 of type dbl\n\n| 21 |  3 |\n|  2 | 14 |\n\n",
            "text/latex": "A matrix: 2 × 2 of type dbl\n\\begin{tabular}{ll}\n\t 21 &  3\\\\\n\t  2 & 14\\\\\n\\end{tabular}\n",
            "text/plain": [
              "     [,1] [,2]\n",
              "[1,] 21    3  \n",
              "[2,]  2   14  "
            ]
          },
          "metadata": {}
        },
        {
          "output_type": "display_data",
          "data": {
            "text/html": [
              "<table class=\"dataframe\">\n",
              "<caption>A matrix: 2 × 2 of type dbl</caption>\n",
              "<tbody>\n",
              "\t<tr><td>12</td><td>5</td></tr>\n",
              "\t<tr><td>45</td><td>1</td></tr>\n",
              "</tbody>\n",
              "</table>\n"
            ],
            "text/markdown": "\nA matrix: 2 × 2 of type dbl\n\n| 12 | 5 |\n| 45 | 1 |\n\n",
            "text/latex": "A matrix: 2 × 2 of type dbl\n\\begin{tabular}{ll}\n\t 12 & 5\\\\\n\t 45 & 1\\\\\n\\end{tabular}\n",
            "text/plain": [
              "     [,1] [,2]\n",
              "[1,] 12   5   \n",
              "[2,] 45   1   "
            ]
          },
          "metadata": {}
        }
      ]
    },
    {
      "cell_type": "code",
      "source": [
        "#b) Evaluate 𝐴 + 𝐵.\n",
        "A+B\n",
        "#c) Evaluate 𝐴𝐵.\n",
        "A%*%B\n",
        "#d) Evaluate 𝐴−1\n",
        "solve(A)\n",
        "#e) Evaluate (𝐴𝑇𝐵)−1\n",
        "solve(t(A) %*% B)"
      ],
      "metadata": {
        "colab": {
          "base_uri": "https://localhost:8080/",
          "height": 407
        },
        "id": "xjUb5KCnbBlr",
        "outputId": "94af0927-0aee-41b5-c7a8-bb62389a4577"
      },
      "execution_count": 16,
      "outputs": [
        {
          "output_type": "display_data",
          "data": {
            "text/html": [
              "<table class=\"dataframe\">\n",
              "<caption>A matrix: 2 × 2 of type dbl</caption>\n",
              "<tbody>\n",
              "\t<tr><td>33</td><td> 8</td></tr>\n",
              "\t<tr><td>47</td><td>15</td></tr>\n",
              "</tbody>\n",
              "</table>\n"
            ],
            "text/markdown": "\nA matrix: 2 × 2 of type dbl\n\n| 33 |  8 |\n| 47 | 15 |\n\n",
            "text/latex": "A matrix: 2 × 2 of type dbl\n\\begin{tabular}{ll}\n\t 33 &  8\\\\\n\t 47 & 15\\\\\n\\end{tabular}\n",
            "text/plain": [
              "     [,1] [,2]\n",
              "[1,] 33    8  \n",
              "[2,] 47   15  "
            ]
          },
          "metadata": {}
        },
        {
          "output_type": "display_data",
          "data": {
            "text/html": [
              "<table class=\"dataframe\">\n",
              "<caption>A matrix: 2 × 2 of type dbl</caption>\n",
              "<tbody>\n",
              "\t<tr><td>387</td><td>108</td></tr>\n",
              "\t<tr><td>654</td><td> 24</td></tr>\n",
              "</tbody>\n",
              "</table>\n"
            ],
            "text/markdown": "\nA matrix: 2 × 2 of type dbl\n\n| 387 | 108 |\n| 654 |  24 |\n\n",
            "text/latex": "A matrix: 2 × 2 of type dbl\n\\begin{tabular}{ll}\n\t 387 & 108\\\\\n\t 654 &  24\\\\\n\\end{tabular}\n",
            "text/plain": [
              "     [,1] [,2]\n",
              "[1,] 387  108 \n",
              "[2,] 654   24 "
            ]
          },
          "metadata": {}
        },
        {
          "output_type": "display_data",
          "data": {
            "text/html": [
              "<table class=\"dataframe\">\n",
              "<caption>A matrix: 2 × 2 of type dbl</caption>\n",
              "<tbody>\n",
              "\t<tr><td> 0.048611111</td><td>-0.01041667</td></tr>\n",
              "\t<tr><td>-0.006944444</td><td> 0.07291667</td></tr>\n",
              "</tbody>\n",
              "</table>\n"
            ],
            "text/markdown": "\nA matrix: 2 × 2 of type dbl\n\n|  0.048611111 | -0.01041667 |\n| -0.006944444 |  0.07291667 |\n\n",
            "text/latex": "A matrix: 2 × 2 of type dbl\n\\begin{tabular}{ll}\n\t  0.048611111 & -0.01041667\\\\\n\t -0.006944444 &  0.07291667\\\\\n\\end{tabular}\n",
            "text/plain": [
              "     [,1]         [,2]       \n",
              "[1,]  0.048611111 -0.01041667\n",
              "[2,] -0.006944444  0.07291667"
            ]
          },
          "metadata": {}
        },
        {
          "output_type": "display_data",
          "data": {
            "text/html": [
              "<table class=\"dataframe\">\n",
              "<caption>A matrix: 2 × 2 of type dbl</caption>\n",
              "<tbody>\n",
              "\t<tr><td>-0.0004727439</td><td> 0.001744262</td></tr>\n",
              "\t<tr><td> 0.0108568075</td><td>-0.005575117</td></tr>\n",
              "</tbody>\n",
              "</table>\n"
            ],
            "text/markdown": "\nA matrix: 2 × 2 of type dbl\n\n| -0.0004727439 |  0.001744262 |\n|  0.0108568075 | -0.005575117 |\n\n",
            "text/latex": "A matrix: 2 × 2 of type dbl\n\\begin{tabular}{ll}\n\t -0.0004727439 &  0.001744262\\\\\n\t  0.0108568075 & -0.005575117\\\\\n\\end{tabular}\n",
            "text/plain": [
              "     [,1]          [,2]        \n",
              "[1,] -0.0004727439  0.001744262\n",
              "[2,]  0.0108568075 -0.005575117"
            ]
          },
          "metadata": {}
        }
      ]
    },
    {
      "cell_type": "code",
      "source": [
        "D <- matrix(c(3,52,7,2,10,1), ncol= 3,nrow=2, byrow=TRUE)\n",
        "D\n",
        "x <- matrix(c(75,2), nrow=2)\n",
        "x\n",
        "E <- cbind(D,x)\n",
        "E\n",
        "F <- D[,c(1,2)]\n",
        "F\n",
        "#F <- D[,1:2]\n",
        "#D[,-3]\n",
        "#D[,c(1,-3)]\n",
        "> myscan <- scan()\n",
        "1: 5\n",
        "2: 6\n",
        "3: 7\n",
        "4: 8\n",
        "5: 9\n",
        "6: 4\n",
        "7: 6\n",
        "8: 3\n",
        "9: 1\n",
        "10: 2\n",
        "11:\n",
        "Read 10 items\n",
        "> myscan\n",
        " [1] 5 6 7 8 9 4 6 3 1 2\n",
        "> myscan <- scan(what=\"\")\n",
        "1: Ali\n",
        "2: Ahmad\n",
        "3: Abu\n",
        "4:\n",
        "Read 3 items\n",
        ">\n",
        "> myscan\n",
        "[1] \"Ali\"   \"Ahmad\" \"Abu\"\n",
        "> matrix(scan(), ncol=3, byrow=T)\n",
        "1: 12 32 54\n",
        "4: 45\n",
        "5: 62\n",
        "6: 91\n",
        "7:\n",
        "Read 6 items\n",
        "     [,1] [,2] [,3]\n",
        "[1,]   12   32   54\n",
        "[2,]   45   62   91"
      ],
      "metadata": {
        "colab": {
          "base_uri": "https://localhost:8080/",
          "height": 158
        },
        "id": "VfNg1uBxbFwd",
        "outputId": "965dbd76-8fb8-4163-cce8-625dc646049a"
      },
      "execution_count": 17,
      "outputs": [
        {
          "output_type": "error",
          "ename": "ERROR",
          "evalue": "ignored",
          "traceback": [
            "Error in parse(text = x, srcfile = src): <text>:12:1: unexpected '>'\n11: #D[,c(1,-3)]\n12: >\n    ^\nTraceback:\n"
          ]
        }
      ]
    }
  ]
}